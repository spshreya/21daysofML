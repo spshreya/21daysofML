{
  "nbformat": 4,
  "nbformat_minor": 0,
  "metadata": {
    "colab": {
      "name": "LinearRegression.ipynb",
      "provenance": [],
      "authorship_tag": "ABX9TyPQerhQe0C+Za0T2eO6BN1G",
      "include_colab_link": true
    },
    "kernelspec": {
      "name": "python3",
      "display_name": "Python 3"
    }
  },
  "cells": [
    {
      "cell_type": "markdown",
      "metadata": {
        "id": "view-in-github",
        "colab_type": "text"
      },
      "source": [
        "<a href=\"https://colab.research.google.com/github/spshreya/21daysofML/blob/main/LinearRegression.ipynb\" target=\"_parent\"><img src=\"https://colab.research.google.com/assets/colab-badge.svg\" alt=\"Open In Colab\"/></a>"
      ]
    },
    {
      "cell_type": "code",
      "metadata": {
        "colab": {
          "base_uri": "https://localhost:8080/"
        },
        "id": "0QV_oRrjudhE",
        "outputId": "c49e6a2d-9ff1-4b15-fd78-3f09111bcb63"
      },
      "source": [
        "!pip install quandl"
      ],
      "execution_count": 2,
      "outputs": [
        {
          "output_type": "stream",
          "text": [
            "Collecting quandl\n",
            "  Downloading https://files.pythonhosted.org/packages/1f/37/2d908ea6de71a46f4bb2faf5ff0032cefe56117b715c7f22d1d0d2e7527d/Quandl-3.5.3-py2.py3-none-any.whl\n",
            "Collecting inflection>=0.3.1\n",
            "  Downloading https://files.pythonhosted.org/packages/59/91/aa6bde563e0085a02a435aa99b49ef75b0a4b062635e606dab23ce18d720/inflection-0.5.1-py2.py3-none-any.whl\n",
            "Requirement already satisfied: numpy>=1.8 in /usr/local/lib/python3.6/dist-packages (from quandl) (1.19.4)\n",
            "Requirement already satisfied: pandas>=0.14 in /usr/local/lib/python3.6/dist-packages (from quandl) (1.1.5)\n",
            "Requirement already satisfied: more-itertools in /usr/local/lib/python3.6/dist-packages (from quandl) (8.6.0)\n",
            "Requirement already satisfied: requests>=2.7.0 in /usr/local/lib/python3.6/dist-packages (from quandl) (2.23.0)\n",
            "Requirement already satisfied: six in /usr/local/lib/python3.6/dist-packages (from quandl) (1.15.0)\n",
            "Requirement already satisfied: python-dateutil in /usr/local/lib/python3.6/dist-packages (from quandl) (2.8.1)\n",
            "Requirement already satisfied: pytz>=2017.2 in /usr/local/lib/python3.6/dist-packages (from pandas>=0.14->quandl) (2018.9)\n",
            "Requirement already satisfied: urllib3!=1.25.0,!=1.25.1,<1.26,>=1.21.1 in /usr/local/lib/python3.6/dist-packages (from requests>=2.7.0->quandl) (1.24.3)\n",
            "Requirement already satisfied: chardet<4,>=3.0.2 in /usr/local/lib/python3.6/dist-packages (from requests>=2.7.0->quandl) (3.0.4)\n",
            "Requirement already satisfied: idna<3,>=2.5 in /usr/local/lib/python3.6/dist-packages (from requests>=2.7.0->quandl) (2.10)\n",
            "Requirement already satisfied: certifi>=2017.4.17 in /usr/local/lib/python3.6/dist-packages (from requests>=2.7.0->quandl) (2020.12.5)\n",
            "Installing collected packages: inflection, quandl\n",
            "Successfully installed inflection-0.5.1 quandl-3.5.3\n"
          ],
          "name": "stdout"
        }
      ]
    },
    {
      "cell_type": "code",
      "metadata": {
        "id": "uRXhP_BVtNxc"
      },
      "source": [
        "import pandas as pd\r\n",
        "import quandl"
      ],
      "execution_count": 4,
      "outputs": []
    },
    {
      "cell_type": "code",
      "metadata": {
        "id": "7_I-EanvuWdR"
      },
      "source": [
        "df= quandl.get('WIKI/GOOGL')"
      ],
      "execution_count": 5,
      "outputs": []
    },
    {
      "cell_type": "code",
      "metadata": {
        "colab": {
          "base_uri": "https://localhost:8080/",
          "height": 225
        },
        "id": "ZVduuqibuyg1",
        "outputId": "c0b5fb5a-4452-47ae-ef38-1ef859383bdf"
      },
      "source": [
        "df.head()"
      ],
      "execution_count": 6,
      "outputs": [
        {
          "output_type": "execute_result",
          "data": {
            "text/html": [
              "<div>\n",
              "<style scoped>\n",
              "    .dataframe tbody tr th:only-of-type {\n",
              "        vertical-align: middle;\n",
              "    }\n",
              "\n",
              "    .dataframe tbody tr th {\n",
              "        vertical-align: top;\n",
              "    }\n",
              "\n",
              "    .dataframe thead th {\n",
              "        text-align: right;\n",
              "    }\n",
              "</style>\n",
              "<table border=\"1\" class=\"dataframe\">\n",
              "  <thead>\n",
              "    <tr style=\"text-align: right;\">\n",
              "      <th></th>\n",
              "      <th>Open</th>\n",
              "      <th>High</th>\n",
              "      <th>Low</th>\n",
              "      <th>Close</th>\n",
              "      <th>Volume</th>\n",
              "      <th>Ex-Dividend</th>\n",
              "      <th>Split Ratio</th>\n",
              "      <th>Adj. Open</th>\n",
              "      <th>Adj. High</th>\n",
              "      <th>Adj. Low</th>\n",
              "      <th>Adj. Close</th>\n",
              "      <th>Adj. Volume</th>\n",
              "    </tr>\n",
              "    <tr>\n",
              "      <th>Date</th>\n",
              "      <th></th>\n",
              "      <th></th>\n",
              "      <th></th>\n",
              "      <th></th>\n",
              "      <th></th>\n",
              "      <th></th>\n",
              "      <th></th>\n",
              "      <th></th>\n",
              "      <th></th>\n",
              "      <th></th>\n",
              "      <th></th>\n",
              "      <th></th>\n",
              "    </tr>\n",
              "  </thead>\n",
              "  <tbody>\n",
              "    <tr>\n",
              "      <th>2004-08-19</th>\n",
              "      <td>100.01</td>\n",
              "      <td>104.06</td>\n",
              "      <td>95.96</td>\n",
              "      <td>100.335</td>\n",
              "      <td>44659000.0</td>\n",
              "      <td>0.0</td>\n",
              "      <td>1.0</td>\n",
              "      <td>50.159839</td>\n",
              "      <td>52.191109</td>\n",
              "      <td>48.128568</td>\n",
              "      <td>50.322842</td>\n",
              "      <td>44659000.0</td>\n",
              "    </tr>\n",
              "    <tr>\n",
              "      <th>2004-08-20</th>\n",
              "      <td>101.01</td>\n",
              "      <td>109.08</td>\n",
              "      <td>100.50</td>\n",
              "      <td>108.310</td>\n",
              "      <td>22834300.0</td>\n",
              "      <td>0.0</td>\n",
              "      <td>1.0</td>\n",
              "      <td>50.661387</td>\n",
              "      <td>54.708881</td>\n",
              "      <td>50.405597</td>\n",
              "      <td>54.322689</td>\n",
              "      <td>22834300.0</td>\n",
              "    </tr>\n",
              "    <tr>\n",
              "      <th>2004-08-23</th>\n",
              "      <td>110.76</td>\n",
              "      <td>113.48</td>\n",
              "      <td>109.05</td>\n",
              "      <td>109.400</td>\n",
              "      <td>18256100.0</td>\n",
              "      <td>0.0</td>\n",
              "      <td>1.0</td>\n",
              "      <td>55.551482</td>\n",
              "      <td>56.915693</td>\n",
              "      <td>54.693835</td>\n",
              "      <td>54.869377</td>\n",
              "      <td>18256100.0</td>\n",
              "    </tr>\n",
              "    <tr>\n",
              "      <th>2004-08-24</th>\n",
              "      <td>111.24</td>\n",
              "      <td>111.60</td>\n",
              "      <td>103.57</td>\n",
              "      <td>104.870</td>\n",
              "      <td>15247300.0</td>\n",
              "      <td>0.0</td>\n",
              "      <td>1.0</td>\n",
              "      <td>55.792225</td>\n",
              "      <td>55.972783</td>\n",
              "      <td>51.945350</td>\n",
              "      <td>52.597363</td>\n",
              "      <td>15247300.0</td>\n",
              "    </tr>\n",
              "    <tr>\n",
              "      <th>2004-08-25</th>\n",
              "      <td>104.76</td>\n",
              "      <td>108.00</td>\n",
              "      <td>103.88</td>\n",
              "      <td>106.000</td>\n",
              "      <td>9188600.0</td>\n",
              "      <td>0.0</td>\n",
              "      <td>1.0</td>\n",
              "      <td>52.542193</td>\n",
              "      <td>54.167209</td>\n",
              "      <td>52.100830</td>\n",
              "      <td>53.164113</td>\n",
              "      <td>9188600.0</td>\n",
              "    </tr>\n",
              "  </tbody>\n",
              "</table>\n",
              "</div>"
            ],
            "text/plain": [
              "              Open    High     Low  ...   Adj. Low  Adj. Close  Adj. Volume\n",
              "Date                                ...                                    \n",
              "2004-08-19  100.01  104.06   95.96  ...  48.128568   50.322842   44659000.0\n",
              "2004-08-20  101.01  109.08  100.50  ...  50.405597   54.322689   22834300.0\n",
              "2004-08-23  110.76  113.48  109.05  ...  54.693835   54.869377   18256100.0\n",
              "2004-08-24  111.24  111.60  103.57  ...  51.945350   52.597363   15247300.0\n",
              "2004-08-25  104.76  108.00  103.88  ...  52.100830   53.164113    9188600.0\n",
              "\n",
              "[5 rows x 12 columns]"
            ]
          },
          "metadata": {
            "tags": []
          },
          "execution_count": 6
        }
      ]
    },
    {
      "cell_type": "code",
      "metadata": {
        "colab": {
          "base_uri": "https://localhost:8080/",
          "height": 225
        },
        "id": "0FkBv3VIu0px",
        "outputId": "e7a94728-fd6b-4898-d5fd-4f3c7ec8a04d"
      },
      "source": [
        "df= df[['Adj. Open','Adj. High','Adj. Low', 'Adj. Close', 'Adj. Volume']]\r\n",
        "df.head()"
      ],
      "execution_count": 7,
      "outputs": [
        {
          "output_type": "execute_result",
          "data": {
            "text/html": [
              "<div>\n",
              "<style scoped>\n",
              "    .dataframe tbody tr th:only-of-type {\n",
              "        vertical-align: middle;\n",
              "    }\n",
              "\n",
              "    .dataframe tbody tr th {\n",
              "        vertical-align: top;\n",
              "    }\n",
              "\n",
              "    .dataframe thead th {\n",
              "        text-align: right;\n",
              "    }\n",
              "</style>\n",
              "<table border=\"1\" class=\"dataframe\">\n",
              "  <thead>\n",
              "    <tr style=\"text-align: right;\">\n",
              "      <th></th>\n",
              "      <th>Adj. Open</th>\n",
              "      <th>Adj. High</th>\n",
              "      <th>Adj. Low</th>\n",
              "      <th>Adj. Close</th>\n",
              "      <th>Adj. Volume</th>\n",
              "    </tr>\n",
              "    <tr>\n",
              "      <th>Date</th>\n",
              "      <th></th>\n",
              "      <th></th>\n",
              "      <th></th>\n",
              "      <th></th>\n",
              "      <th></th>\n",
              "    </tr>\n",
              "  </thead>\n",
              "  <tbody>\n",
              "    <tr>\n",
              "      <th>2004-08-19</th>\n",
              "      <td>50.159839</td>\n",
              "      <td>52.191109</td>\n",
              "      <td>48.128568</td>\n",
              "      <td>50.322842</td>\n",
              "      <td>44659000.0</td>\n",
              "    </tr>\n",
              "    <tr>\n",
              "      <th>2004-08-20</th>\n",
              "      <td>50.661387</td>\n",
              "      <td>54.708881</td>\n",
              "      <td>50.405597</td>\n",
              "      <td>54.322689</td>\n",
              "      <td>22834300.0</td>\n",
              "    </tr>\n",
              "    <tr>\n",
              "      <th>2004-08-23</th>\n",
              "      <td>55.551482</td>\n",
              "      <td>56.915693</td>\n",
              "      <td>54.693835</td>\n",
              "      <td>54.869377</td>\n",
              "      <td>18256100.0</td>\n",
              "    </tr>\n",
              "    <tr>\n",
              "      <th>2004-08-24</th>\n",
              "      <td>55.792225</td>\n",
              "      <td>55.972783</td>\n",
              "      <td>51.945350</td>\n",
              "      <td>52.597363</td>\n",
              "      <td>15247300.0</td>\n",
              "    </tr>\n",
              "    <tr>\n",
              "      <th>2004-08-25</th>\n",
              "      <td>52.542193</td>\n",
              "      <td>54.167209</td>\n",
              "      <td>52.100830</td>\n",
              "      <td>53.164113</td>\n",
              "      <td>9188600.0</td>\n",
              "    </tr>\n",
              "  </tbody>\n",
              "</table>\n",
              "</div>"
            ],
            "text/plain": [
              "            Adj. Open  Adj. High   Adj. Low  Adj. Close  Adj. Volume\n",
              "Date                                                                \n",
              "2004-08-19  50.159839  52.191109  48.128568   50.322842   44659000.0\n",
              "2004-08-20  50.661387  54.708881  50.405597   54.322689   22834300.0\n",
              "2004-08-23  55.551482  56.915693  54.693835   54.869377   18256100.0\n",
              "2004-08-24  55.792225  55.972783  51.945350   52.597363   15247300.0\n",
              "2004-08-25  52.542193  54.167209  52.100830   53.164113    9188600.0"
            ]
          },
          "metadata": {
            "tags": []
          },
          "execution_count": 7
        }
      ]
    },
    {
      "cell_type": "code",
      "metadata": {
        "colab": {
          "base_uri": "https://localhost:8080/",
          "height": 225
        },
        "id": "HTM21XUpvxKY",
        "outputId": "db1ec8cd-4d2b-4be3-f972-916ec47a2b31"
      },
      "source": [
        "df['HL_PCT']=(df['Adj. High']-df['Adj. Low'])/ df['Adj. Low'] * 100.0\r\n",
        "df['daily_change']=(df['Adj. Open']-df['Adj. Close'])/df['Adj. Close']*100.0\r\n",
        "df=df[['Adj. Close','Adj. Volume','HL_PCT','daily_change']] #features\r\n",
        "df.head()"
      ],
      "execution_count": 8,
      "outputs": [
        {
          "output_type": "execute_result",
          "data": {
            "text/html": [
              "<div>\n",
              "<style scoped>\n",
              "    .dataframe tbody tr th:only-of-type {\n",
              "        vertical-align: middle;\n",
              "    }\n",
              "\n",
              "    .dataframe tbody tr th {\n",
              "        vertical-align: top;\n",
              "    }\n",
              "\n",
              "    .dataframe thead th {\n",
              "        text-align: right;\n",
              "    }\n",
              "</style>\n",
              "<table border=\"1\" class=\"dataframe\">\n",
              "  <thead>\n",
              "    <tr style=\"text-align: right;\">\n",
              "      <th></th>\n",
              "      <th>Adj. Close</th>\n",
              "      <th>Adj. Volume</th>\n",
              "      <th>HL_PCT</th>\n",
              "      <th>daily_change</th>\n",
              "    </tr>\n",
              "    <tr>\n",
              "      <th>Date</th>\n",
              "      <th></th>\n",
              "      <th></th>\n",
              "      <th></th>\n",
              "      <th></th>\n",
              "    </tr>\n",
              "  </thead>\n",
              "  <tbody>\n",
              "    <tr>\n",
              "      <th>2004-08-19</th>\n",
              "      <td>50.322842</td>\n",
              "      <td>44659000.0</td>\n",
              "      <td>8.441017</td>\n",
              "      <td>-0.323915</td>\n",
              "    </tr>\n",
              "    <tr>\n",
              "      <th>2004-08-20</th>\n",
              "      <td>54.322689</td>\n",
              "      <td>22834300.0</td>\n",
              "      <td>8.537313</td>\n",
              "      <td>-6.739913</td>\n",
              "    </tr>\n",
              "    <tr>\n",
              "      <th>2004-08-23</th>\n",
              "      <td>54.869377</td>\n",
              "      <td>18256100.0</td>\n",
              "      <td>4.062357</td>\n",
              "      <td>1.243144</td>\n",
              "    </tr>\n",
              "    <tr>\n",
              "      <th>2004-08-24</th>\n",
              "      <td>52.597363</td>\n",
              "      <td>15247300.0</td>\n",
              "      <td>7.753210</td>\n",
              "      <td>6.074187</td>\n",
              "    </tr>\n",
              "    <tr>\n",
              "      <th>2004-08-25</th>\n",
              "      <td>53.164113</td>\n",
              "      <td>9188600.0</td>\n",
              "      <td>3.966115</td>\n",
              "      <td>-1.169811</td>\n",
              "    </tr>\n",
              "  </tbody>\n",
              "</table>\n",
              "</div>"
            ],
            "text/plain": [
              "            Adj. Close  Adj. Volume    HL_PCT  daily_change\n",
              "Date                                                       \n",
              "2004-08-19   50.322842   44659000.0  8.441017     -0.323915\n",
              "2004-08-20   54.322689   22834300.0  8.537313     -6.739913\n",
              "2004-08-23   54.869377   18256100.0  4.062357      1.243144\n",
              "2004-08-24   52.597363   15247300.0  7.753210      6.074187\n",
              "2004-08-25   53.164113    9188600.0  3.966115     -1.169811"
            ]
          },
          "metadata": {
            "tags": []
          },
          "execution_count": 8
        }
      ]
    },
    {
      "cell_type": "code",
      "metadata": {
        "id": "kc8EHUWXxYZ6"
      },
      "source": [
        "df.fillna(-9999,inplace=True)"
      ],
      "execution_count": 9,
      "outputs": []
    },
    {
      "cell_type": "code",
      "metadata": {
        "colab": {
          "base_uri": "https://localhost:8080/"
        },
        "id": "rLeZ8kdVyMBA",
        "outputId": "37625f81-a7fe-4650-eeff-df762da62df5"
      },
      "source": [
        "import math\r\n",
        "frcst='Adj. Close'\r\n",
        "frcst_out = math.ceil(0.01*len(df)) #10% of the total dataset in an integer format\r\n",
        "frcst_out"
      ],
      "execution_count": 20,
      "outputs": [
        {
          "output_type": "execute_result",
          "data": {
            "text/plain": [
              "35"
            ]
          },
          "metadata": {
            "tags": []
          },
          "execution_count": 20
        }
      ]
    },
    {
      "cell_type": "code",
      "metadata": {
        "colab": {
          "base_uri": "https://localhost:8080/",
          "height": 225
        },
        "id": "20sv4YlIzeXU",
        "outputId": "6b116c42-5ae7-4053-a096-c56b881b7c44"
      },
      "source": [
        "df['label'] = df[frcst].shift(-frcst_out)\r\n",
        "df.dropna(inplace=True)\r\n",
        "df.head()"
      ],
      "execution_count": 25,
      "outputs": [
        {
          "output_type": "execute_result",
          "data": {
            "text/html": [
              "<div>\n",
              "<style scoped>\n",
              "    .dataframe tbody tr th:only-of-type {\n",
              "        vertical-align: middle;\n",
              "    }\n",
              "\n",
              "    .dataframe tbody tr th {\n",
              "        vertical-align: top;\n",
              "    }\n",
              "\n",
              "    .dataframe thead th {\n",
              "        text-align: right;\n",
              "    }\n",
              "</style>\n",
              "<table border=\"1\" class=\"dataframe\">\n",
              "  <thead>\n",
              "    <tr style=\"text-align: right;\">\n",
              "      <th></th>\n",
              "      <th>Adj. Close</th>\n",
              "      <th>Adj. Volume</th>\n",
              "      <th>HL_PCT</th>\n",
              "      <th>daily_change</th>\n",
              "      <th>label</th>\n",
              "    </tr>\n",
              "    <tr>\n",
              "      <th>Date</th>\n",
              "      <th></th>\n",
              "      <th></th>\n",
              "      <th></th>\n",
              "      <th></th>\n",
              "      <th></th>\n",
              "    </tr>\n",
              "  </thead>\n",
              "  <tbody>\n",
              "    <tr>\n",
              "      <th>2004-08-19</th>\n",
              "      <td>50.322842</td>\n",
              "      <td>44659000.0</td>\n",
              "      <td>8.441017</td>\n",
              "      <td>-0.323915</td>\n",
              "      <td>69.078238</td>\n",
              "    </tr>\n",
              "    <tr>\n",
              "      <th>2004-08-20</th>\n",
              "      <td>54.322689</td>\n",
              "      <td>22834300.0</td>\n",
              "      <td>8.537313</td>\n",
              "      <td>-6.739913</td>\n",
              "      <td>67.839414</td>\n",
              "    </tr>\n",
              "    <tr>\n",
              "      <th>2004-08-23</th>\n",
              "      <td>54.869377</td>\n",
              "      <td>18256100.0</td>\n",
              "      <td>4.062357</td>\n",
              "      <td>1.243144</td>\n",
              "      <td>68.912727</td>\n",
              "    </tr>\n",
              "    <tr>\n",
              "      <th>2004-08-24</th>\n",
              "      <td>52.597363</td>\n",
              "      <td>15247300.0</td>\n",
              "      <td>7.753210</td>\n",
              "      <td>6.074187</td>\n",
              "      <td>70.668146</td>\n",
              "    </tr>\n",
              "    <tr>\n",
              "      <th>2004-08-25</th>\n",
              "      <td>53.164113</td>\n",
              "      <td>9188600.0</td>\n",
              "      <td>3.966115</td>\n",
              "      <td>-1.169811</td>\n",
              "      <td>71.219849</td>\n",
              "    </tr>\n",
              "  </tbody>\n",
              "</table>\n",
              "</div>"
            ],
            "text/plain": [
              "            Adj. Close  Adj. Volume    HL_PCT  daily_change      label\n",
              "Date                                                                  \n",
              "2004-08-19   50.322842   44659000.0  8.441017     -0.323915  69.078238\n",
              "2004-08-20   54.322689   22834300.0  8.537313     -6.739913  67.839414\n",
              "2004-08-23   54.869377   18256100.0  4.062357      1.243144  68.912727\n",
              "2004-08-24   52.597363   15247300.0  7.753210      6.074187  70.668146\n",
              "2004-08-25   53.164113    9188600.0  3.966115     -1.169811  71.219849"
            ]
          },
          "metadata": {
            "tags": []
          },
          "execution_count": 25
        }
      ]
    },
    {
      "cell_type": "code",
      "metadata": {
        "id": "Qu174nJP0xuZ"
      },
      "source": [
        "import numpy as np\r\n",
        "from sklearn import preprocessing, model_selection, svm\r\n",
        "from sklearn.linear_model import LinearRegression"
      ],
      "execution_count": 26,
      "outputs": []
    },
    {
      "cell_type": "code",
      "metadata": {
        "colab": {
          "base_uri": "https://localhost:8080/"
        },
        "id": "ueijL5K23yk3",
        "outputId": "77642aa8-c9bb-4679-e337-1fcb35b540da"
      },
      "source": [
        "X= np.array(df.drop(['label'],1)) #.drop gives a copy \r\n",
        "X #X is the features"
      ],
      "execution_count": 32,
      "outputs": [
        {
          "output_type": "execute_result",
          "data": {
            "text/plain": [
              "array([[ 5.03228418e+01,  4.46590000e+07,  8.44101709e+00,\n",
              "        -3.23914885e-01],\n",
              "       [ 5.43226889e+01,  2.28343000e+07,  8.53731343e+00,\n",
              "        -6.73991321e+00],\n",
              "       [ 5.48693765e+01,  1.82561000e+07,  4.06235672e+00,\n",
              "         1.24314442e+00],\n",
              "       ...,\n",
              "       [ 1.18159000e+03,  2.77496700e+06,  1.54700007e+00,\n",
              "        -4.73937660e-01],\n",
              "       [ 1.11920000e+03,  5.79888000e+06,  1.81160398e+00,\n",
              "         7.34453181e-01],\n",
              "       [ 1.06876000e+03,  3.74246900e+06,  5.51223574e+00,\n",
              "         2.98008908e+00]])"
            ]
          },
          "metadata": {
            "tags": []
          },
          "execution_count": 32
        }
      ]
    },
    {
      "cell_type": "code",
      "metadata": {
        "colab": {
          "base_uri": "https://localhost:8080/"
        },
        "id": "T2Aq3wA14L9G",
        "outputId": "b988a404-caec-417e-d0a0-0c2fc7a884de"
      },
      "source": [
        "y=np.array(df['label'])\r\n",
        "y #y is the labels"
      ],
      "execution_count": 28,
      "outputs": [
        {
          "output_type": "execute_result",
          "data": {
            "text/plain": [
              "array([  69.0782379 ,   67.83941377,   68.91272699, ..., 1026.55      ,\n",
              "       1054.09      , 1006.94      ])"
            ]
          },
          "metadata": {
            "tags": []
          },
          "execution_count": 28
        }
      ]
    },
    {
      "cell_type": "code",
      "metadata": {
        "colab": {
          "base_uri": "https://localhost:8080/"
        },
        "id": "XATICk9Z4RX6",
        "outputId": "d020b612-2de3-46cb-9525-304c24ceaa75"
      },
      "source": [
        "X= preprocessing.scale(X) #puts sparse data onto a scale\r\n",
        "X"
      ],
      "execution_count": 33,
      "outputs": [
        {
          "output_type": "execute_result",
          "data": {
            "text/plain": [
              "array([[-1.41006544,  4.44790502,  4.33430358, -0.2449376 ],\n",
              "       [-1.39402696,  1.80881376,  4.4006455 , -4.50625488],\n",
              "       [-1.39183486,  1.25520764,  1.31769132,  0.79585708],\n",
              "       ...,\n",
              "       [ 3.12606095, -0.61680539, -0.41522584, -0.34457831],\n",
              "       [ 2.87589111, -0.25114711, -0.23293095,  0.45799933],\n",
              "       [ 2.67363808, -0.4998129 ,  2.31656369,  1.94948461]])"
            ]
          },
          "metadata": {
            "tags": []
          },
          "execution_count": 33
        }
      ]
    },
    {
      "cell_type": "code",
      "metadata": {
        "colab": {
          "base_uri": "https://localhost:8080/"
        },
        "id": "CHJGLAgc4xx_",
        "outputId": "a488d6d3-8433-4a1a-bdbe-2839e6f2d1ab"
      },
      "source": [
        "print(len(X),len(y)) #these shoub=ld be equal"
      ],
      "execution_count": 34,
      "outputs": [
        {
          "output_type": "stream",
          "text": [
            "3389 3389\n"
          ],
          "name": "stdout"
        }
      ]
    },
    {
      "cell_type": "code",
      "metadata": {
        "id": "H_CowCrD57B-"
      },
      "source": [
        "#testing and training\r\n",
        "\r\n",
        "X_train, X_test, y_train, y_test = model_selection.train_test_split(X,y,test_size=0.2) #20% of our data is our testing data\r\n",
        "clf= LinearRegression()\r\n",
        "clf.fit(X_train,y_train)\r\n",
        "accuracy = clf.score(X_test,y_test)"
      ],
      "execution_count": 38,
      "outputs": []
    },
    {
      "cell_type": "code",
      "metadata": {
        "colab": {
          "base_uri": "https://localhost:8080/"
        },
        "id": "kp5njw-98JHC",
        "outputId": "15d540d1-ff58-4e0d-f5ae-042d9439e7f2"
      },
      "source": [
        "accuracy #our model is 97.89% accurate"
      ],
      "execution_count": 39,
      "outputs": [
        {
          "output_type": "execute_result",
          "data": {
            "text/plain": [
              "0.9789915032626679"
            ]
          },
          "metadata": {
            "tags": []
          },
          "execution_count": 39
        }
      ]
    },
    {
      "cell_type": "code",
      "metadata": {
        "colab": {
          "base_uri": "https://localhost:8080/"
        },
        "id": "vOSWYyWv8Kqv",
        "outputId": "fe47c121-3117-4d4e-8f30-9817a20222a0"
      },
      "source": [
        "clf1= svm.SVR()\r\n",
        "clf1.fit(X_train,y_train)\r\n",
        "accuracy1 = clf1.score(X_test,y_test)\r\n",
        "accuracy1"
      ],
      "execution_count": 41,
      "outputs": [
        {
          "output_type": "execute_result",
          "data": {
            "text/plain": [
              "0.8015810881677475"
            ]
          },
          "metadata": {
            "tags": []
          },
          "execution_count": 41
        }
      ]
    },
    {
      "cell_type": "markdown",
      "metadata": {
        "id": "h7dWuWKE8yRt"
      },
      "source": [
        "It is pretty clear that here Linear Regression works better than SVM (which might not be the case always)"
      ]
    },
    {
      "cell_type": "code",
      "metadata": {
        "colab": {
          "base_uri": "https://localhost:8080/"
        },
        "id": "1vcun8zv8_Ed",
        "outputId": "628dbc02-c001-4ca3-8687-edd2cf028b74"
      },
      "source": [
        "#now let us try to predict\r\n",
        "X= np.array(df.drop(['label'],1)) #.drop gives a copy \r\n",
        "X #X is the features\r\n",
        "X= preprocessing.scale(X)\r\n",
        "x=X[:-frcst_out]\r\n",
        "x_lately = X[-frcst_out:]\r\n",
        "df.dropna(inplace=True)\r\n",
        "y=np.array(df['label'])\r\n",
        "\r\n",
        "X_train, X_test, y_train, y_test = model_selection.train_test_split(X,y,test_size=0.2) #20% of our data is our testing data\r\n",
        "clf= LinearRegression()\r\n",
        "clf.fit(X_train,y_train)\r\n",
        "accuracy = clf.score(X_test,y_test)\r\n",
        "\r\n",
        "frcst_set= clf.predict(x_lately)\r\n",
        "frcst_set\r\n"
      ],
      "execution_count": 45,
      "outputs": [
        {
          "output_type": "execute_result",
          "data": {
            "text/plain": [
              "array([1077.99506781, 1092.2421214 , 1105.85482462, 1100.54062654,\n",
              "       1094.07744343, 1091.97255832, 1090.69121736, 1086.8626264 ,\n",
              "       1081.03441999, 1076.56915595, 1074.7989981 , 1093.40422276,\n",
              "       1111.88610766, 1117.09958929, 1131.77645574, 1136.01674919,\n",
              "       1134.11374782, 1131.97391391, 1133.64128504, 1151.39257363,\n",
              "       1150.6615782 , 1160.3650234 , 1156.98032021, 1165.38404352,\n",
              "       1185.24317033, 1198.29859192, 1191.88975836, 1204.13409175,\n",
              "       1208.71993693, 1208.3201151 , 1199.12006046, 1203.93809848,\n",
              "       1202.78127914, 1138.09730343, 1082.3918417 ])"
            ]
          },
          "metadata": {
            "tags": []
          },
          "execution_count": 45
        }
      ]
    },
    {
      "cell_type": "code",
      "metadata": {
        "colab": {
          "base_uri": "https://localhost:8080/"
        },
        "id": "aCz5Ynlk_lj1",
        "outputId": "bac64966-6fc7-4af7-d594-bdf24cc3a1bc"
      },
      "source": [
        "accuracy"
      ],
      "execution_count": 46,
      "outputs": [
        {
          "output_type": "execute_result",
          "data": {
            "text/plain": [
              "0.9768129133918588"
            ]
          },
          "metadata": {
            "tags": []
          },
          "execution_count": 46
        }
      ]
    },
    {
      "cell_type": "code",
      "metadata": {
        "colab": {
          "base_uri": "https://localhost:8080/"
        },
        "id": "fVDuQRl3Cazq",
        "outputId": "2f256900-3621-4dd9-8305-2496adaec531"
      },
      "source": [
        "frcst_out"
      ],
      "execution_count": 47,
      "outputs": [
        {
          "output_type": "execute_result",
          "data": {
            "text/plain": [
              "35"
            ]
          },
          "metadata": {
            "tags": []
          },
          "execution_count": 47
        }
      ]
    },
    {
      "cell_type": "code",
      "metadata": {
        "id": "vwGbsO_pDkPV"
      },
      "source": [
        ""
      ],
      "execution_count": null,
      "outputs": []
    }
  ]
}