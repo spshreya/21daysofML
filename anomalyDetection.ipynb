{
  "nbformat": 4,
  "nbformat_minor": 0,
  "metadata": {
    "colab": {
      "name": "anomalyDetection.ipynb",
      "provenance": [],
      "authorship_tag": "ABX9TyNBX1jmvQjuRlAysIGnMmxX",
      "include_colab_link": true
    },
    "kernelspec": {
      "name": "python3",
      "display_name": "Python 3"
    },
    "language_info": {
      "name": "python"
    }
  },
  "cells": [
    {
      "cell_type": "markdown",
      "metadata": {
        "id": "view-in-github",
        "colab_type": "text"
      },
      "source": [
        "<a href=\"https://colab.research.google.com/github/spshreya/21daysofML/blob/main/anomalyDetection.ipynb\" target=\"_parent\"><img src=\"https://colab.research.google.com/assets/colab-badge.svg\" alt=\"Open In Colab\"/></a>"
      ]
    },
    {
      "cell_type": "code",
      "execution_count": 1,
      "metadata": {
        "id": "gEM868uqTPhN",
        "colab": {
          "resources": {
            "http://localhost:8080/nbextensions/google.colab/files.js": {
              "data": "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",
              "ok": true,
              "headers": [
                [
                  "content-type",
                  "application/javascript"
                ]
              ],
              "status": 200,
              "status_text": ""
            }
          },
          "base_uri": "https://localhost:8080/",
          "height": 73
        },
        "outputId": "5ef91ad4-17ae-4357-956e-8662696d976c"
      },
      "outputs": [
        {
          "output_type": "display_data",
          "data": {
            "text/plain": [
              "<IPython.core.display.HTML object>"
            ],
            "text/html": [
              "\n",
              "     <input type=\"file\" id=\"files-00d8a867-4257-4246-b38b-30334bb2646c\" name=\"files[]\" multiple disabled\n",
              "        style=\"border:none\" />\n",
              "     <output id=\"result-00d8a867-4257-4246-b38b-30334bb2646c\">\n",
              "      Upload widget is only available when the cell has been executed in the\n",
              "      current browser session. Please rerun this cell to enable.\n",
              "      </output>\n",
              "      <script src=\"/nbextensions/google.colab/files.js\"></script> "
            ]
          },
          "metadata": {}
        },
        {
          "output_type": "stream",
          "name": "stdout",
          "text": [
            "Saving ICalls dataset.xlsx to ICalls dataset.xlsx\n"
          ]
        }
      ],
      "source": [
        "from google.colab import files\n",
        "uploaded = files.upload()"
      ]
    },
    {
      "cell_type": "code",
      "source": [
        "import pandas as pd\n",
        "import numpy as np"
      ],
      "metadata": {
        "id": "JdbzHS2s8AuB"
      },
      "execution_count": 2,
      "outputs": []
    },
    {
      "cell_type": "code",
      "source": [
        "df = pd.read_excel('ICalls dataset.xlsx')"
      ],
      "metadata": {
        "id": "JxZn4Fjx-ryK"
      },
      "execution_count": 3,
      "outputs": []
    },
    {
      "cell_type": "code",
      "source": [
        "df.head()"
      ],
      "metadata": {
        "colab": {
          "base_uri": "https://localhost:8080/",
          "height": 386
        },
        "id": "GGxBnBAW-z8x",
        "outputId": "774cf3e3-7aad-4849-c949-df5939072a75"
      },
      "execution_count": 4,
      "outputs": [
        {
          "output_type": "execute_result",
          "data": {
            "text/plain": [
              "               CALL_ID     START_TIMESTAMP  CALL_DURATION_SEC  \\\n",
              "0  1000284067810012905 2020-02-02 00:28:10                123   \n",
              "1  1000284067810012912 2020-02-02 00:30:13                  1   \n",
              "2  1000284067810009861 2020-02-02 00:09:18                 33   \n",
              "3  1000284067810012939 2020-02-02 00:29:47                 43   \n",
              "4  1000284067810012946 2020-02-02 00:28:51                101   \n",
              "\n",
              "   CALLING_NUMBER_NOR  CALLED_NUMBER_NOR  RELEASE_CALSE_ID  IN_SWITCH_ID  \\\n",
              "0        1.304815e+12       1.063402e+12               144             3   \n",
              "1        7.718661e+10       1.458973e+10               144             3   \n",
              "2        2.239853e+12       2.239770e+12               144             3   \n",
              "3        2.457868e+13       2.457866e+13               144             3   \n",
              "4        1.966744e+12       2.238910e+12               144             3   \n",
              "\n",
              "   IN_TRUNK_ID  IN_ACCOUNT_ID  IN_SERVICE_LEVEL_ID  ...  OUT_ACCOUNT_ID  \\\n",
              "0         3814            381                    8  ...             221   \n",
              "1         3170            204                    8  ...             190   \n",
              "2         3170            204                    3  ...             130   \n",
              "3         3617            249                    2  ...             256   \n",
              "4         1353            234                    2  ...             370   \n",
              "\n",
              "   OUT_SERVICE_LEVEL_ID  OUT_SERVICE_ID  ROUTING_CLASS_ID  \\\n",
              "0                     0               1                 8   \n",
              "1                     0               1                 8   \n",
              "2                     0               1                 4   \n",
              "3                     0               1                 2   \n",
              "4                     0               1                 2   \n",
              "\n",
              "   ROUTING_DESTINATION_ID  ROUTING_COUNTRY_ID  ORIG_COUNTRY_ID  ANSWERED  \\\n",
              "0                    1067                 146              241         1   \n",
              "1                  272224                  67              229         1   \n",
              "2                    1798                 228              228         1   \n",
              "3                     540                  80               80         1   \n",
              "4                    1778                 228              107         1   \n",
              "\n",
              "       COST   REVENUE  \n",
              "0  0.681010  0.682035  \n",
              "1  0.002583  0.002583  \n",
              "2  0.003025  0.003025  \n",
              "3  0.007102  0.000000  \n",
              "4  0.013467  0.012120  \n",
              "\n",
              "[5 rows x 23 columns]"
            ],
            "text/html": [
              "\n",
              "  <div id=\"df-46c06ff7-4c16-4db3-81eb-e367f76df846\">\n",
              "    <div class=\"colab-df-container\">\n",
              "      <div>\n",
              "<style scoped>\n",
              "    .dataframe tbody tr th:only-of-type {\n",
              "        vertical-align: middle;\n",
              "    }\n",
              "\n",
              "    .dataframe tbody tr th {\n",
              "        vertical-align: top;\n",
              "    }\n",
              "\n",
              "    .dataframe thead th {\n",
              "        text-align: right;\n",
              "    }\n",
              "</style>\n",
              "<table border=\"1\" class=\"dataframe\">\n",
              "  <thead>\n",
              "    <tr style=\"text-align: right;\">\n",
              "      <th></th>\n",
              "      <th>CALL_ID</th>\n",
              "      <th>START_TIMESTAMP</th>\n",
              "      <th>CALL_DURATION_SEC</th>\n",
              "      <th>CALLING_NUMBER_NOR</th>\n",
              "      <th>CALLED_NUMBER_NOR</th>\n",
              "      <th>RELEASE_CALSE_ID</th>\n",
              "      <th>IN_SWITCH_ID</th>\n",
              "      <th>IN_TRUNK_ID</th>\n",
              "      <th>IN_ACCOUNT_ID</th>\n",
              "      <th>IN_SERVICE_LEVEL_ID</th>\n",
              "      <th>...</th>\n",
              "      <th>OUT_ACCOUNT_ID</th>\n",
              "      <th>OUT_SERVICE_LEVEL_ID</th>\n",
              "      <th>OUT_SERVICE_ID</th>\n",
              "      <th>ROUTING_CLASS_ID</th>\n",
              "      <th>ROUTING_DESTINATION_ID</th>\n",
              "      <th>ROUTING_COUNTRY_ID</th>\n",
              "      <th>ORIG_COUNTRY_ID</th>\n",
              "      <th>ANSWERED</th>\n",
              "      <th>COST</th>\n",
              "      <th>REVENUE</th>\n",
              "    </tr>\n",
              "  </thead>\n",
              "  <tbody>\n",
              "    <tr>\n",
              "      <th>0</th>\n",
              "      <td>1000284067810012905</td>\n",
              "      <td>2020-02-02 00:28:10</td>\n",
              "      <td>123</td>\n",
              "      <td>1.304815e+12</td>\n",
              "      <td>1.063402e+12</td>\n",
              "      <td>144</td>\n",
              "      <td>3</td>\n",
              "      <td>3814</td>\n",
              "      <td>381</td>\n",
              "      <td>8</td>\n",
              "      <td>...</td>\n",
              "      <td>221</td>\n",
              "      <td>0</td>\n",
              "      <td>1</td>\n",
              "      <td>8</td>\n",
              "      <td>1067</td>\n",
              "      <td>146</td>\n",
              "      <td>241</td>\n",
              "      <td>1</td>\n",
              "      <td>0.681010</td>\n",
              "      <td>0.682035</td>\n",
              "    </tr>\n",
              "    <tr>\n",
              "      <th>1</th>\n",
              "      <td>1000284067810012912</td>\n",
              "      <td>2020-02-02 00:30:13</td>\n",
              "      <td>1</td>\n",
              "      <td>7.718661e+10</td>\n",
              "      <td>1.458973e+10</td>\n",
              "      <td>144</td>\n",
              "      <td>3</td>\n",
              "      <td>3170</td>\n",
              "      <td>204</td>\n",
              "      <td>8</td>\n",
              "      <td>...</td>\n",
              "      <td>190</td>\n",
              "      <td>0</td>\n",
              "      <td>1</td>\n",
              "      <td>8</td>\n",
              "      <td>272224</td>\n",
              "      <td>67</td>\n",
              "      <td>229</td>\n",
              "      <td>1</td>\n",
              "      <td>0.002583</td>\n",
              "      <td>0.002583</td>\n",
              "    </tr>\n",
              "    <tr>\n",
              "      <th>2</th>\n",
              "      <td>1000284067810009861</td>\n",
              "      <td>2020-02-02 00:09:18</td>\n",
              "      <td>33</td>\n",
              "      <td>2.239853e+12</td>\n",
              "      <td>2.239770e+12</td>\n",
              "      <td>144</td>\n",
              "      <td>3</td>\n",
              "      <td>3170</td>\n",
              "      <td>204</td>\n",
              "      <td>3</td>\n",
              "      <td>...</td>\n",
              "      <td>130</td>\n",
              "      <td>0</td>\n",
              "      <td>1</td>\n",
              "      <td>4</td>\n",
              "      <td>1798</td>\n",
              "      <td>228</td>\n",
              "      <td>228</td>\n",
              "      <td>1</td>\n",
              "      <td>0.003025</td>\n",
              "      <td>0.003025</td>\n",
              "    </tr>\n",
              "    <tr>\n",
              "      <th>3</th>\n",
              "      <td>1000284067810012939</td>\n",
              "      <td>2020-02-02 00:29:47</td>\n",
              "      <td>43</td>\n",
              "      <td>2.457868e+13</td>\n",
              "      <td>2.457866e+13</td>\n",
              "      <td>144</td>\n",
              "      <td>3</td>\n",
              "      <td>3617</td>\n",
              "      <td>249</td>\n",
              "      <td>2</td>\n",
              "      <td>...</td>\n",
              "      <td>256</td>\n",
              "      <td>0</td>\n",
              "      <td>1</td>\n",
              "      <td>2</td>\n",
              "      <td>540</td>\n",
              "      <td>80</td>\n",
              "      <td>80</td>\n",
              "      <td>1</td>\n",
              "      <td>0.007102</td>\n",
              "      <td>0.000000</td>\n",
              "    </tr>\n",
              "    <tr>\n",
              "      <th>4</th>\n",
              "      <td>1000284067810012946</td>\n",
              "      <td>2020-02-02 00:28:51</td>\n",
              "      <td>101</td>\n",
              "      <td>1.966744e+12</td>\n",
              "      <td>2.238910e+12</td>\n",
              "      <td>144</td>\n",
              "      <td>3</td>\n",
              "      <td>1353</td>\n",
              "      <td>234</td>\n",
              "      <td>2</td>\n",
              "      <td>...</td>\n",
              "      <td>370</td>\n",
              "      <td>0</td>\n",
              "      <td>1</td>\n",
              "      <td>2</td>\n",
              "      <td>1778</td>\n",
              "      <td>228</td>\n",
              "      <td>107</td>\n",
              "      <td>1</td>\n",
              "      <td>0.013467</td>\n",
              "      <td>0.012120</td>\n",
              "    </tr>\n",
              "  </tbody>\n",
              "</table>\n",
              "<p>5 rows × 23 columns</p>\n",
              "</div>\n",
              "      <button class=\"colab-df-convert\" onclick=\"convertToInteractive('df-46c06ff7-4c16-4db3-81eb-e367f76df846')\"\n",
              "              title=\"Convert this dataframe to an interactive table.\"\n",
              "              style=\"display:none;\">\n",
              "        \n",
              "  <svg xmlns=\"http://www.w3.org/2000/svg\" height=\"24px\"viewBox=\"0 0 24 24\"\n",
              "       width=\"24px\">\n",
              "    <path d=\"M0 0h24v24H0V0z\" fill=\"none\"/>\n",
              "    <path d=\"M18.56 5.44l.94 2.06.94-2.06 2.06-.94-2.06-.94-.94-2.06-.94 2.06-2.06.94zm-11 1L8.5 8.5l.94-2.06 2.06-.94-2.06-.94L8.5 2.5l-.94 2.06-2.06.94zm10 10l.94 2.06.94-2.06 2.06-.94-2.06-.94-.94-2.06-.94 2.06-2.06.94z\"/><path d=\"M17.41 7.96l-1.37-1.37c-.4-.4-.92-.59-1.43-.59-.52 0-1.04.2-1.43.59L10.3 9.45l-7.72 7.72c-.78.78-.78 2.05 0 2.83L4 21.41c.39.39.9.59 1.41.59.51 0 1.02-.2 1.41-.59l7.78-7.78 2.81-2.81c.8-.78.8-2.07 0-2.86zM5.41 20L4 18.59l7.72-7.72 1.47 1.35L5.41 20z\"/>\n",
              "  </svg>\n",
              "      </button>\n",
              "      \n",
              "  <style>\n",
              "    .colab-df-container {\n",
              "      display:flex;\n",
              "      flex-wrap:wrap;\n",
              "      gap: 12px;\n",
              "    }\n",
              "\n",
              "    .colab-df-convert {\n",
              "      background-color: #E8F0FE;\n",
              "      border: none;\n",
              "      border-radius: 50%;\n",
              "      cursor: pointer;\n",
              "      display: none;\n",
              "      fill: #1967D2;\n",
              "      height: 32px;\n",
              "      padding: 0 0 0 0;\n",
              "      width: 32px;\n",
              "    }\n",
              "\n",
              "    .colab-df-convert:hover {\n",
              "      background-color: #E2EBFA;\n",
              "      box-shadow: 0px 1px 2px rgba(60, 64, 67, 0.3), 0px 1px 3px 1px rgba(60, 64, 67, 0.15);\n",
              "      fill: #174EA6;\n",
              "    }\n",
              "\n",
              "    [theme=dark] .colab-df-convert {\n",
              "      background-color: #3B4455;\n",
              "      fill: #D2E3FC;\n",
              "    }\n",
              "\n",
              "    [theme=dark] .colab-df-convert:hover {\n",
              "      background-color: #434B5C;\n",
              "      box-shadow: 0px 1px 3px 1px rgba(0, 0, 0, 0.15);\n",
              "      filter: drop-shadow(0px 1px 2px rgba(0, 0, 0, 0.3));\n",
              "      fill: #FFFFFF;\n",
              "    }\n",
              "  </style>\n",
              "\n",
              "      <script>\n",
              "        const buttonEl =\n",
              "          document.querySelector('#df-46c06ff7-4c16-4db3-81eb-e367f76df846 button.colab-df-convert');\n",
              "        buttonEl.style.display =\n",
              "          google.colab.kernel.accessAllowed ? 'block' : 'none';\n",
              "\n",
              "        async function convertToInteractive(key) {\n",
              "          const element = document.querySelector('#df-46c06ff7-4c16-4db3-81eb-e367f76df846');\n",
              "          const dataTable =\n",
              "            await google.colab.kernel.invokeFunction('convertToInteractive',\n",
              "                                                     [key], {});\n",
              "          if (!dataTable) return;\n",
              "\n",
              "          const docLinkHtml = 'Like what you see? Visit the ' +\n",
              "            '<a target=\"_blank\" href=https://colab.research.google.com/notebooks/data_table.ipynb>data table notebook</a>'\n",
              "            + ' to learn more about interactive tables.';\n",
              "          element.innerHTML = '';\n",
              "          dataTable['output_type'] = 'display_data';\n",
              "          await google.colab.output.renderOutput(dataTable, element);\n",
              "          const docLink = document.createElement('div');\n",
              "          docLink.innerHTML = docLinkHtml;\n",
              "          element.appendChild(docLink);\n",
              "        }\n",
              "      </script>\n",
              "    </div>\n",
              "  </div>\n",
              "  "
            ]
          },
          "metadata": {},
          "execution_count": 4
        }
      ]
    },
    {
      "cell_type": "code",
      "source": [
        "df.info()"
      ],
      "metadata": {
        "colab": {
          "base_uri": "https://localhost:8080/"
        },
        "id": "2YDdTNxN_HFR",
        "outputId": "4c208f6a-0139-442c-a8aa-06f797a22d57"
      },
      "execution_count": 5,
      "outputs": [
        {
          "output_type": "stream",
          "name": "stdout",
          "text": [
            "<class 'pandas.core.frame.DataFrame'>\n",
            "RangeIndex: 99999 entries, 0 to 99998\n",
            "Data columns (total 23 columns):\n",
            " #   Column                  Non-Null Count  Dtype         \n",
            "---  ------                  --------------  -----         \n",
            " 0   CALL_ID                 99999 non-null  int64         \n",
            " 1   START_TIMESTAMP         99999 non-null  datetime64[ns]\n",
            " 2   CALL_DURATION_SEC       99999 non-null  int64         \n",
            " 3   CALLING_NUMBER_NOR      99925 non-null  float64       \n",
            " 4   CALLED_NUMBER_NOR       99991 non-null  float64       \n",
            " 5   RELEASE_CALSE_ID        99999 non-null  int64         \n",
            " 6   IN_SWITCH_ID            99999 non-null  int64         \n",
            " 7   IN_TRUNK_ID             99999 non-null  int64         \n",
            " 8   IN_ACCOUNT_ID           99999 non-null  int64         \n",
            " 9   IN_SERVICE_LEVEL_ID     99999 non-null  int64         \n",
            " 10  IN_SERVICE_ID           99999 non-null  int64         \n",
            " 11  OUT_SWITCH_ID           99999 non-null  int64         \n",
            " 12  OUT_TRUNK_ID            99999 non-null  int64         \n",
            " 13  OUT_ACCOUNT_ID          99999 non-null  int64         \n",
            " 14  OUT_SERVICE_LEVEL_ID    99999 non-null  int64         \n",
            " 15  OUT_SERVICE_ID          99999 non-null  int64         \n",
            " 16  ROUTING_CLASS_ID        99999 non-null  int64         \n",
            " 17  ROUTING_DESTINATION_ID  99999 non-null  int64         \n",
            " 18  ROUTING_COUNTRY_ID      99999 non-null  int64         \n",
            " 19  ORIG_COUNTRY_ID         99999 non-null  int64         \n",
            " 20  ANSWERED                99999 non-null  int64         \n",
            " 21  COST                    99999 non-null  float64       \n",
            " 22  REVENUE                 99999 non-null  float64       \n",
            "dtypes: datetime64[ns](1), float64(4), int64(18)\n",
            "memory usage: 17.5 MB\n"
          ]
        }
      ]
    },
    {
      "cell_type": "code",
      "source": [
        "df.describe()"
      ],
      "metadata": {
        "colab": {
          "base_uri": "https://localhost:8080/",
          "height": 394
        },
        "id": "9GOix_PK_LyI",
        "outputId": "663dbdb9-18ed-44ec-d6c7-6ad52bf29b20"
      },
      "execution_count": 7,
      "outputs": [
        {
          "output_type": "execute_result",
          "data": {
            "text/plain": [
              "            CALL_ID  CALL_DURATION_SEC  CALLING_NUMBER_NOR  CALLED_NUMBER_NOR  \\\n",
              "count  9.999900e+04       99999.000000        9.992500e+04       9.999100e+04   \n",
              "mean   1.000284e+18          48.458295        8.290002e+13       1.427750e+15   \n",
              "std    7.671378e+09         285.489648        1.699935e+16       5.386531e+16   \n",
              "min    1.000284e+18           0.000000        0.000000e+00       2.458955e+06   \n",
              "25%    1.000284e+18           0.000000        2.036361e+11       1.063033e+12   \n",
              "50%    1.000284e+18           0.000000        1.966352e+12       2.237122e+12   \n",
              "75%    1.000284e+18           4.000000        2.237876e+12       4.977794e+12   \n",
              "max    1.000284e+18        9010.000000        4.748148e+18       1.633697e+19   \n",
              "\n",
              "       RELEASE_CALSE_ID  IN_SWITCH_ID   IN_TRUNK_ID  IN_ACCOUNT_ID  \\\n",
              "count      99999.000000       99999.0  99999.000000   99999.000000   \n",
              "mean         113.165142           3.0   3160.778828     261.777788   \n",
              "std           59.675143           0.0    786.210202      95.391538   \n",
              "min           15.000000           3.0    354.000000      95.000000   \n",
              "25%           25.000000           3.0   2979.000000     204.000000   \n",
              "50%          144.000000           3.0   3274.000000     253.000000   \n",
              "75%          148.000000           3.0   3754.000000     368.000000   \n",
              "max          255.000000           3.0   3948.000000     396.000000   \n",
              "\n",
              "       IN_SERVICE_LEVEL_ID  IN_SERVICE_ID  ...  OUT_ACCOUNT_ID  \\\n",
              "count         99999.000000        99999.0  ...    99999.000000   \n",
              "mean              4.906059            1.0  ...      223.084791   \n",
              "std               2.480387            0.0  ...       74.992806   \n",
              "min               0.000000            1.0  ...       94.000000   \n",
              "25%               3.000000            1.0  ...      198.000000   \n",
              "50%               4.000000            1.0  ...      221.000000   \n",
              "75%               8.000000            1.0  ...      234.000000   \n",
              "max               8.000000            1.0  ...      396.000000   \n",
              "\n",
              "       OUT_SERVICE_LEVEL_ID  OUT_SERVICE_ID  ROUTING_CLASS_ID  \\\n",
              "count               99999.0    99999.000000      99999.000000   \n",
              "mean                    0.0        0.945849          4.712877   \n",
              "std                     0.0        0.226316          2.650729   \n",
              "min                     0.0        0.000000          0.000000   \n",
              "25%                     0.0        1.000000          3.000000   \n",
              "50%                     0.0        1.000000          3.000000   \n",
              "75%                     0.0        1.000000          8.000000   \n",
              "max                     0.0        1.000000          8.000000   \n",
              "\n",
              "       ROUTING_DESTINATION_ID  ROUTING_COUNTRY_ID  ORIG_COUNTRY_ID  \\\n",
              "count            99999.000000        99999.000000     99999.000000   \n",
              "mean             25641.202932          133.344183       147.244782   \n",
              "std              67733.326216           63.545003        70.959032   \n",
              "min                  2.000000            2.000000         0.000000   \n",
              "25%                782.000000           81.000000       103.000000   \n",
              "50%               1079.000000          146.000000       147.000000   \n",
              "75%               1791.000000          178.000000       228.000000   \n",
              "max             483676.000000          280.000000       280.000000   \n",
              "\n",
              "           ANSWERED          COST       REVENUE  \n",
              "count  99999.000000  99999.000000  99999.000000  \n",
              "mean       0.301993      0.044938      0.048910  \n",
              "std        0.459125      0.230755      0.255000  \n",
              "min        0.000000      0.000000      0.000000  \n",
              "25%        0.000000      0.000000      0.000000  \n",
              "50%        0.000000      0.000000      0.000000  \n",
              "75%        1.000000      0.000525      0.000833  \n",
              "max        1.000000     16.592958     17.321500  \n",
              "\n",
              "[8 rows x 22 columns]"
            ],
            "text/html": [
              "\n",
              "  <div id=\"df-62fc7420-d471-4e11-a52a-a45387b8cddb\">\n",
              "    <div class=\"colab-df-container\">\n",
              "      <div>\n",
              "<style scoped>\n",
              "    .dataframe tbody tr th:only-of-type {\n",
              "        vertical-align: middle;\n",
              "    }\n",
              "\n",
              "    .dataframe tbody tr th {\n",
              "        vertical-align: top;\n",
              "    }\n",
              "\n",
              "    .dataframe thead th {\n",
              "        text-align: right;\n",
              "    }\n",
              "</style>\n",
              "<table border=\"1\" class=\"dataframe\">\n",
              "  <thead>\n",
              "    <tr style=\"text-align: right;\">\n",
              "      <th></th>\n",
              "      <th>CALL_ID</th>\n",
              "      <th>CALL_DURATION_SEC</th>\n",
              "      <th>CALLING_NUMBER_NOR</th>\n",
              "      <th>CALLED_NUMBER_NOR</th>\n",
              "      <th>RELEASE_CALSE_ID</th>\n",
              "      <th>IN_SWITCH_ID</th>\n",
              "      <th>IN_TRUNK_ID</th>\n",
              "      <th>IN_ACCOUNT_ID</th>\n",
              "      <th>IN_SERVICE_LEVEL_ID</th>\n",
              "      <th>IN_SERVICE_ID</th>\n",
              "      <th>...</th>\n",
              "      <th>OUT_ACCOUNT_ID</th>\n",
              "      <th>OUT_SERVICE_LEVEL_ID</th>\n",
              "      <th>OUT_SERVICE_ID</th>\n",
              "      <th>ROUTING_CLASS_ID</th>\n",
              "      <th>ROUTING_DESTINATION_ID</th>\n",
              "      <th>ROUTING_COUNTRY_ID</th>\n",
              "      <th>ORIG_COUNTRY_ID</th>\n",
              "      <th>ANSWERED</th>\n",
              "      <th>COST</th>\n",
              "      <th>REVENUE</th>\n",
              "    </tr>\n",
              "  </thead>\n",
              "  <tbody>\n",
              "    <tr>\n",
              "      <th>count</th>\n",
              "      <td>9.999900e+04</td>\n",
              "      <td>99999.000000</td>\n",
              "      <td>9.992500e+04</td>\n",
              "      <td>9.999100e+04</td>\n",
              "      <td>99999.000000</td>\n",
              "      <td>99999.0</td>\n",
              "      <td>99999.000000</td>\n",
              "      <td>99999.000000</td>\n",
              "      <td>99999.000000</td>\n",
              "      <td>99999.0</td>\n",
              "      <td>...</td>\n",
              "      <td>99999.000000</td>\n",
              "      <td>99999.0</td>\n",
              "      <td>99999.000000</td>\n",
              "      <td>99999.000000</td>\n",
              "      <td>99999.000000</td>\n",
              "      <td>99999.000000</td>\n",
              "      <td>99999.000000</td>\n",
              "      <td>99999.000000</td>\n",
              "      <td>99999.000000</td>\n",
              "      <td>99999.000000</td>\n",
              "    </tr>\n",
              "    <tr>\n",
              "      <th>mean</th>\n",
              "      <td>1.000284e+18</td>\n",
              "      <td>48.458295</td>\n",
              "      <td>8.290002e+13</td>\n",
              "      <td>1.427750e+15</td>\n",
              "      <td>113.165142</td>\n",
              "      <td>3.0</td>\n",
              "      <td>3160.778828</td>\n",
              "      <td>261.777788</td>\n",
              "      <td>4.906059</td>\n",
              "      <td>1.0</td>\n",
              "      <td>...</td>\n",
              "      <td>223.084791</td>\n",
              "      <td>0.0</td>\n",
              "      <td>0.945849</td>\n",
              "      <td>4.712877</td>\n",
              "      <td>25641.202932</td>\n",
              "      <td>133.344183</td>\n",
              "      <td>147.244782</td>\n",
              "      <td>0.301993</td>\n",
              "      <td>0.044938</td>\n",
              "      <td>0.048910</td>\n",
              "    </tr>\n",
              "    <tr>\n",
              "      <th>std</th>\n",
              "      <td>7.671378e+09</td>\n",
              "      <td>285.489648</td>\n",
              "      <td>1.699935e+16</td>\n",
              "      <td>5.386531e+16</td>\n",
              "      <td>59.675143</td>\n",
              "      <td>0.0</td>\n",
              "      <td>786.210202</td>\n",
              "      <td>95.391538</td>\n",
              "      <td>2.480387</td>\n",
              "      <td>0.0</td>\n",
              "      <td>...</td>\n",
              "      <td>74.992806</td>\n",
              "      <td>0.0</td>\n",
              "      <td>0.226316</td>\n",
              "      <td>2.650729</td>\n",
              "      <td>67733.326216</td>\n",
              "      <td>63.545003</td>\n",
              "      <td>70.959032</td>\n",
              "      <td>0.459125</td>\n",
              "      <td>0.230755</td>\n",
              "      <td>0.255000</td>\n",
              "    </tr>\n",
              "    <tr>\n",
              "      <th>min</th>\n",
              "      <td>1.000284e+18</td>\n",
              "      <td>0.000000</td>\n",
              "      <td>0.000000e+00</td>\n",
              "      <td>2.458955e+06</td>\n",
              "      <td>15.000000</td>\n",
              "      <td>3.0</td>\n",
              "      <td>354.000000</td>\n",
              "      <td>95.000000</td>\n",
              "      <td>0.000000</td>\n",
              "      <td>1.0</td>\n",
              "      <td>...</td>\n",
              "      <td>94.000000</td>\n",
              "      <td>0.0</td>\n",
              "      <td>0.000000</td>\n",
              "      <td>0.000000</td>\n",
              "      <td>2.000000</td>\n",
              "      <td>2.000000</td>\n",
              "      <td>0.000000</td>\n",
              "      <td>0.000000</td>\n",
              "      <td>0.000000</td>\n",
              "      <td>0.000000</td>\n",
              "    </tr>\n",
              "    <tr>\n",
              "      <th>25%</th>\n",
              "      <td>1.000284e+18</td>\n",
              "      <td>0.000000</td>\n",
              "      <td>2.036361e+11</td>\n",
              "      <td>1.063033e+12</td>\n",
              "      <td>25.000000</td>\n",
              "      <td>3.0</td>\n",
              "      <td>2979.000000</td>\n",
              "      <td>204.000000</td>\n",
              "      <td>3.000000</td>\n",
              "      <td>1.0</td>\n",
              "      <td>...</td>\n",
              "      <td>198.000000</td>\n",
              "      <td>0.0</td>\n",
              "      <td>1.000000</td>\n",
              "      <td>3.000000</td>\n",
              "      <td>782.000000</td>\n",
              "      <td>81.000000</td>\n",
              "      <td>103.000000</td>\n",
              "      <td>0.000000</td>\n",
              "      <td>0.000000</td>\n",
              "      <td>0.000000</td>\n",
              "    </tr>\n",
              "    <tr>\n",
              "      <th>50%</th>\n",
              "      <td>1.000284e+18</td>\n",
              "      <td>0.000000</td>\n",
              "      <td>1.966352e+12</td>\n",
              "      <td>2.237122e+12</td>\n",
              "      <td>144.000000</td>\n",
              "      <td>3.0</td>\n",
              "      <td>3274.000000</td>\n",
              "      <td>253.000000</td>\n",
              "      <td>4.000000</td>\n",
              "      <td>1.0</td>\n",
              "      <td>...</td>\n",
              "      <td>221.000000</td>\n",
              "      <td>0.0</td>\n",
              "      <td>1.000000</td>\n",
              "      <td>3.000000</td>\n",
              "      <td>1079.000000</td>\n",
              "      <td>146.000000</td>\n",
              "      <td>147.000000</td>\n",
              "      <td>0.000000</td>\n",
              "      <td>0.000000</td>\n",
              "      <td>0.000000</td>\n",
              "    </tr>\n",
              "    <tr>\n",
              "      <th>75%</th>\n",
              "      <td>1.000284e+18</td>\n",
              "      <td>4.000000</td>\n",
              "      <td>2.237876e+12</td>\n",
              "      <td>4.977794e+12</td>\n",
              "      <td>148.000000</td>\n",
              "      <td>3.0</td>\n",
              "      <td>3754.000000</td>\n",
              "      <td>368.000000</td>\n",
              "      <td>8.000000</td>\n",
              "      <td>1.0</td>\n",
              "      <td>...</td>\n",
              "      <td>234.000000</td>\n",
              "      <td>0.0</td>\n",
              "      <td>1.000000</td>\n",
              "      <td>8.000000</td>\n",
              "      <td>1791.000000</td>\n",
              "      <td>178.000000</td>\n",
              "      <td>228.000000</td>\n",
              "      <td>1.000000</td>\n",
              "      <td>0.000525</td>\n",
              "      <td>0.000833</td>\n",
              "    </tr>\n",
              "    <tr>\n",
              "      <th>max</th>\n",
              "      <td>1.000284e+18</td>\n",
              "      <td>9010.000000</td>\n",
              "      <td>4.748148e+18</td>\n",
              "      <td>1.633697e+19</td>\n",
              "      <td>255.000000</td>\n",
              "      <td>3.0</td>\n",
              "      <td>3948.000000</td>\n",
              "      <td>396.000000</td>\n",
              "      <td>8.000000</td>\n",
              "      <td>1.0</td>\n",
              "      <td>...</td>\n",
              "      <td>396.000000</td>\n",
              "      <td>0.0</td>\n",
              "      <td>1.000000</td>\n",
              "      <td>8.000000</td>\n",
              "      <td>483676.000000</td>\n",
              "      <td>280.000000</td>\n",
              "      <td>280.000000</td>\n",
              "      <td>1.000000</td>\n",
              "      <td>16.592958</td>\n",
              "      <td>17.321500</td>\n",
              "    </tr>\n",
              "  </tbody>\n",
              "</table>\n",
              "<p>8 rows × 22 columns</p>\n",
              "</div>\n",
              "      <button class=\"colab-df-convert\" onclick=\"convertToInteractive('df-62fc7420-d471-4e11-a52a-a45387b8cddb')\"\n",
              "              title=\"Convert this dataframe to an interactive table.\"\n",
              "              style=\"display:none;\">\n",
              "        \n",
              "  <svg xmlns=\"http://www.w3.org/2000/svg\" height=\"24px\"viewBox=\"0 0 24 24\"\n",
              "       width=\"24px\">\n",
              "    <path d=\"M0 0h24v24H0V0z\" fill=\"none\"/>\n",
              "    <path d=\"M18.56 5.44l.94 2.06.94-2.06 2.06-.94-2.06-.94-.94-2.06-.94 2.06-2.06.94zm-11 1L8.5 8.5l.94-2.06 2.06-.94-2.06-.94L8.5 2.5l-.94 2.06-2.06.94zm10 10l.94 2.06.94-2.06 2.06-.94-2.06-.94-.94-2.06-.94 2.06-2.06.94z\"/><path d=\"M17.41 7.96l-1.37-1.37c-.4-.4-.92-.59-1.43-.59-.52 0-1.04.2-1.43.59L10.3 9.45l-7.72 7.72c-.78.78-.78 2.05 0 2.83L4 21.41c.39.39.9.59 1.41.59.51 0 1.02-.2 1.41-.59l7.78-7.78 2.81-2.81c.8-.78.8-2.07 0-2.86zM5.41 20L4 18.59l7.72-7.72 1.47 1.35L5.41 20z\"/>\n",
              "  </svg>\n",
              "      </button>\n",
              "      \n",
              "  <style>\n",
              "    .colab-df-container {\n",
              "      display:flex;\n",
              "      flex-wrap:wrap;\n",
              "      gap: 12px;\n",
              "    }\n",
              "\n",
              "    .colab-df-convert {\n",
              "      background-color: #E8F0FE;\n",
              "      border: none;\n",
              "      border-radius: 50%;\n",
              "      cursor: pointer;\n",
              "      display: none;\n",
              "      fill: #1967D2;\n",
              "      height: 32px;\n",
              "      padding: 0 0 0 0;\n",
              "      width: 32px;\n",
              "    }\n",
              "\n",
              "    .colab-df-convert:hover {\n",
              "      background-color: #E2EBFA;\n",
              "      box-shadow: 0px 1px 2px rgba(60, 64, 67, 0.3), 0px 1px 3px 1px rgba(60, 64, 67, 0.15);\n",
              "      fill: #174EA6;\n",
              "    }\n",
              "\n",
              "    [theme=dark] .colab-df-convert {\n",
              "      background-color: #3B4455;\n",
              "      fill: #D2E3FC;\n",
              "    }\n",
              "\n",
              "    [theme=dark] .colab-df-convert:hover {\n",
              "      background-color: #434B5C;\n",
              "      box-shadow: 0px 1px 3px 1px rgba(0, 0, 0, 0.15);\n",
              "      filter: drop-shadow(0px 1px 2px rgba(0, 0, 0, 0.3));\n",
              "      fill: #FFFFFF;\n",
              "    }\n",
              "  </style>\n",
              "\n",
              "      <script>\n",
              "        const buttonEl =\n",
              "          document.querySelector('#df-62fc7420-d471-4e11-a52a-a45387b8cddb button.colab-df-convert');\n",
              "        buttonEl.style.display =\n",
              "          google.colab.kernel.accessAllowed ? 'block' : 'none';\n",
              "\n",
              "        async function convertToInteractive(key) {\n",
              "          const element = document.querySelector('#df-62fc7420-d471-4e11-a52a-a45387b8cddb');\n",
              "          const dataTable =\n",
              "            await google.colab.kernel.invokeFunction('convertToInteractive',\n",
              "                                                     [key], {});\n",
              "          if (!dataTable) return;\n",
              "\n",
              "          const docLinkHtml = 'Like what you see? Visit the ' +\n",
              "            '<a target=\"_blank\" href=https://colab.research.google.com/notebooks/data_table.ipynb>data table notebook</a>'\n",
              "            + ' to learn more about interactive tables.';\n",
              "          element.innerHTML = '';\n",
              "          dataTable['output_type'] = 'display_data';\n",
              "          await google.colab.output.renderOutput(dataTable, element);\n",
              "          const docLink = document.createElement('div');\n",
              "          docLink.innerHTML = docLinkHtml;\n",
              "          element.appendChild(docLink);\n",
              "        }\n",
              "      </script>\n",
              "    </div>\n",
              "  </div>\n",
              "  "
            ]
          },
          "metadata": {},
          "execution_count": 7
        }
      ]
    },
    {
      "cell_type": "code",
      "source": [
        "df['OUT_SERVICE_ID'].value_counts()"
      ],
      "metadata": {
        "colab": {
          "base_uri": "https://localhost:8080/"
        },
        "id": "Z2SjBwObGWDk",
        "outputId": "68626354-867c-4254-8b62-0c129461a5fc"
      },
      "execution_count": 9,
      "outputs": [
        {
          "output_type": "execute_result",
          "data": {
            "text/plain": [
              "1    94584\n",
              "0     5415\n",
              "Name: OUT_SERVICE_ID, dtype: int64"
            ]
          },
          "metadata": {},
          "execution_count": 9
        }
      ]
    },
    {
      "cell_type": "code",
      "source": [
        "df['ROUTING_CLASS_ID'].value_counts()"
      ],
      "metadata": {
        "colab": {
          "base_uri": "https://localhost:8080/"
        },
        "id": "lT23CFCDMLD_",
        "outputId": "097b0f86-a798-4f9a-eaec-90b7ace23581"
      },
      "execution_count": 10,
      "outputs": [
        {
          "output_type": "execute_result",
          "data": {
            "text/plain": [
              "8    34017\n",
              "3    30658\n",
              "2    21704\n",
              "7     6135\n",
              "4     5205\n",
              "0     2280\n",
              "Name: ROUTING_CLASS_ID, dtype: int64"
            ]
          },
          "metadata": {},
          "execution_count": 10
        }
      ]
    },
    {
      "cell_type": "code",
      "source": [
        "from sklearn.ensemble import IsolationForest\n",
        "contamination = 0.01\n",
        "data = df.copy()"
      ],
      "metadata": {
        "id": "sjwQ92s3M27b"
      },
      "execution_count": 12,
      "outputs": []
    },
    {
      "cell_type": "code",
      "source": [
        "import datetime as dt\n",
        "data['START_TIMESTAMP'] =  data['START_TIMESTAMP'].map(dt.datetime.toordinal)"
      ],
      "metadata": {
        "id": "nidVxAdGWIVV"
      },
      "execution_count": 16,
      "outputs": []
    },
    {
      "cell_type": "code",
      "source": [
        "data['START_TIMESTAMP'].unique()"
      ],
      "metadata": {
        "colab": {
          "base_uri": "https://localhost:8080/"
        },
        "id": "2DlkzWaEWt9D",
        "outputId": "896fcfbd-237e-464e-d447-ba79d05a55fd"
      },
      "execution_count": 18,
      "outputs": [
        {
          "output_type": "execute_result",
          "data": {
            "text/plain": [
              "array([737457])"
            ]
          },
          "metadata": {},
          "execution_count": 18
        }
      ]
    },
    {
      "cell_type": "code",
      "source": [
        "data =data.fillna(0)"
      ],
      "metadata": {
        "id": "Zbn2158IXoC9"
      },
      "execution_count": 22,
      "outputs": []
    },
    {
      "cell_type": "code",
      "source": [
        "model = IsolationForest(contamination = contamination, n_estimators = 1000)\n",
        "model.fit(data)"
      ],
      "metadata": {
        "colab": {
          "base_uri": "https://localhost:8080/"
        },
        "id": "tDPa_ea0NUmM",
        "outputId": "33cee475-7e93-45da-9cd6-9512568c2801"
      },
      "execution_count": 23,
      "outputs": [
        {
          "output_type": "stream",
          "name": "stderr",
          "text": [
            "/usr/local/lib/python3.7/dist-packages/sklearn/base.py:451: UserWarning: X does not have valid feature names, but IsolationForest was fitted with feature names\n",
            "  \"X does not have valid feature names, but\"\n"
          ]
        },
        {
          "output_type": "execute_result",
          "data": {
            "text/plain": [
              "IsolationForest(contamination=0.01, n_estimators=1000)"
            ]
          },
          "metadata": {},
          "execution_count": 23
        }
      ]
    },
    {
      "cell_type": "code",
      "source": [
        "df['iforest']= pd.Series(model.predict(data))\n",
        "df['iforest'].value_counts()"
      ],
      "metadata": {
        "colab": {
          "base_uri": "https://localhost:8080/"
        },
        "id": "JC7D4eG6OkRg",
        "outputId": "b01fc906-1b11-482c-a829-79c9de14e407"
      },
      "execution_count": 24,
      "outputs": [
        {
          "output_type": "execute_result",
          "data": {
            "text/plain": [
              " 1    98999\n",
              "-1     1000\n",
              "Name: iforest, dtype: int64"
            ]
          },
          "metadata": {},
          "execution_count": 24
        }
      ]
    },
    {
      "cell_type": "code",
      "source": [
        "pred = model.predict(data)"
      ],
      "metadata": {
        "id": "fsMPGoD-Zj0z"
      },
      "execution_count": 26,
      "outputs": []
    },
    {
      "cell_type": "code",
      "source": [
        "anomalies_ind=np.where(pred < 0)"
      ],
      "metadata": {
        "id": "Jn3XBemYYr5-"
      },
      "execution_count": 28,
      "outputs": []
    },
    {
      "cell_type": "code",
      "source": [
        "#lemme try this over a col at once so that I am able to plot this :)"
      ],
      "metadata": {
        "id": "eXLiadRYZwxN"
      },
      "execution_count": null,
      "outputs": []
    },
    {
      "cell_type": "code",
      "source": [
        "data = df[['CALL_DURATION_SEC','REVENUE']]"
      ],
      "metadata": {
        "id": "GuEeWNBci2OE"
      },
      "execution_count": 47,
      "outputs": []
    },
    {
      "cell_type": "code",
      "source": [
        "model = IsolationForest(contamination = 0.001, n_estimators = 1000)\n",
        "model.fit(data)"
      ],
      "metadata": {
        "colab": {
          "base_uri": "https://localhost:8080/"
        },
        "id": "6EzFI4U3jZG1",
        "outputId": "57c50942-8bca-4e17-9e7d-242b14d907da"
      },
      "execution_count": 68,
      "outputs": [
        {
          "output_type": "stream",
          "name": "stderr",
          "text": [
            "/usr/local/lib/python3.7/dist-packages/sklearn/base.py:451: UserWarning: X does not have valid feature names, but IsolationForest was fitted with feature names\n",
            "  \"X does not have valid feature names, but\"\n"
          ]
        },
        {
          "output_type": "execute_result",
          "data": {
            "text/plain": [
              "IsolationForest(contamination=0.001, n_estimators=1000)"
            ]
          },
          "metadata": {},
          "execution_count": 68
        }
      ]
    },
    {
      "cell_type": "code",
      "source": [
        "pred = model.predict(data)"
      ],
      "metadata": {
        "id": "nff8dMENtQxy"
      },
      "execution_count": 69,
      "outputs": []
    },
    {
      "cell_type": "code",
      "source": [
        "df['iforest']= pd.Series(pred)\n",
        "df['iforest'].value_counts()"
      ],
      "metadata": {
        "colab": {
          "base_uri": "https://localhost:8080/"
        },
        "id": "04zHNL1Dokrm",
        "outputId": "2df70c29-441c-4fde-a0f9-982d44d14431"
      },
      "execution_count": 71,
      "outputs": [
        {
          "output_type": "execute_result",
          "data": {
            "text/plain": [
              " 1    99899\n",
              "-1      100\n",
              "Name: iforest, dtype: int64"
            ]
          },
          "metadata": {},
          "execution_count": 71
        }
      ]
    },
    {
      "cell_type": "code",
      "source": [
        "anomalies_ind=np.where(pred < 0)"
      ],
      "metadata": {
        "id": "brhLfiybo2tU"
      },
      "execution_count": 72,
      "outputs": []
    },
    {
      "cell_type": "code",
      "source": [
        "import matplotlib.pyplot as plt"
      ],
      "metadata": {
        "id": "wutRQI-djb4u"
      },
      "execution_count": 31,
      "outputs": []
    },
    {
      "cell_type": "code",
      "source": [
        "#y = np.arange(0,99999)\n",
        "#y"
      ],
      "metadata": {
        "colab": {
          "base_uri": "https://localhost:8080/"
        },
        "id": "4QETvM5AkZJ8",
        "outputId": "97407d0e-6bb7-4e66-eaf8-2023835efd3e"
      },
      "execution_count": 36,
      "outputs": [
        {
          "output_type": "execute_result",
          "data": {
            "text/plain": [
              "array([    0,     1,     2, ..., 99996, 99997, 99998])"
            ]
          },
          "metadata": {},
          "execution_count": 36
        }
      ]
    },
    {
      "cell_type": "code",
      "source": [
        "plt.plot(df['CALL_DURATION_SEC'])\n",
        "#plt.plot()\n",
        "#plt.yticks([0,1000,2000,3000,4000,5000,6000,7000,8000,9000])"
      ],
      "metadata": {
        "colab": {
          "base_uri": "https://localhost:8080/",
          "height": 282
        },
        "id": "iLP7L0TakAp1",
        "outputId": "25e8e0c8-1472-4c93-8c55-22a71fd013b7"
      },
      "execution_count": 55,
      "outputs": [
        {
          "output_type": "execute_result",
          "data": {
            "text/plain": [
              "[<matplotlib.lines.Line2D at 0x7fad7bdeb850>]"
            ]
          },
          "metadata": {},
          "execution_count": 55
        },
        {
          "output_type": "display_data",
          "data": {
            "text/plain": [
              "<Figure size 432x288 with 1 Axes>"
            ],
            "image/png": "[encoded data removed]"
          },
          "metadata": {
            "needs_background": "light"
          }
        }
      ]
    },
    {
      "cell_type": "code",
      "source": [
        "x = data.values"
      ],
      "metadata": {
        "id": "3B1-giM7p5eI"
      },
      "execution_count": 73,
      "outputs": []
    },
    {
      "cell_type": "code",
      "source": [
        "plt.figure(figsize=(15,10))\n",
        "plt.scatter(x[:,0], x[:,1])\n",
        "plt.scatter(x[anomalies_ind,0], x[anomalies_ind,1], edgecolors='r')\n"
      ],
      "metadata": {
        "colab": {
          "base_uri": "https://localhost:8080/",
          "height": 609
        },
        "id": "nnEj3pORqfu4",
        "outputId": "84af0b99-8eb9-487b-8811-e1623e32fc8d"
      },
      "execution_count": 74,
      "outputs": [
        {
          "output_type": "execute_result",
          "data": {
            "text/plain": [
              "<matplotlib.collections.PathCollection at 0x7fad7adb1550>"
            ]
          },
          "metadata": {},
          "execution_count": 74
        },
        {
          "output_type": "display_data",
          "data": {
            "text/plain": [
              "<Figure size 1080x720 with 1 Axes>"
            ],
            "image/png": "[encoded data removed]"
          },
          "metadata": {
            "needs_background": "light"
          }
        }
      ]
    },
    {
      "cell_type": "code",
      "source": [
        "df['CALLING_NUMBER_NOR'].value_counts()"
      ],
      "metadata": {
        "colab": {
          "base_uri": "https://localhost:8080/"
        },
        "id": "1WqANBkrkJqR",
        "outputId": "e15fd46c-d439-48ca-970a-6cf65b758243"
      },
      "execution_count": 44,
      "outputs": [
        {
          "output_type": "execute_result",
          "data": {
            "text/plain": [
              "1.951150e+12    3348\n",
              "2.237972e+12     656\n",
              "2.210187e+12     655\n",
              "2.237989e+12     637\n",
              "2.237996e+12     616\n",
              "                ... \n",
              "2.210431e+12       1\n",
              "1.966474e+12       1\n",
              "4.400850e+13       1\n",
              "2.324283e+11       1\n",
              "2.466611e+12       1\n",
              "Name: CALLING_NUMBER_NOR, Length: 47693, dtype: int64"
            ]
          },
          "metadata": {},
          "execution_count": 44
        }
      ]
    },
    {
      "cell_type": "code",
      "source": [
        "plt.plot(df['REVENUE'])"
      ],
      "metadata": {
        "colab": {
          "base_uri": "https://localhost:8080/",
          "height": 282
        },
        "id": "tMEXGFHmlbCq",
        "outputId": "b9c09bb9-d126-461d-b7e5-ccff3f045737"
      },
      "execution_count": 45,
      "outputs": [
        {
          "output_type": "execute_result",
          "data": {
            "text/plain": [
              "[<matplotlib.lines.Line2D at 0x7fad8bc261d0>]"
            ]
          },
          "metadata": {},
          "execution_count": 45
        },
        {
          "output_type": "display_data",
          "data": {
            "text/plain": [
              "<Figure size 432x288 with 1 Axes>"
            ],
            "image/png": "[encoded data removed]"
          },
          "metadata": {
            "needs_background": "light"
          }
        }
      ]
    },
    {
      "cell_type": "code",
      "source": [
        ""
      ],
      "metadata": {
        "id": "DJQaX1LjnGUM"
      },
      "execution_count": null,
      "outputs": []
    }
  ]
}