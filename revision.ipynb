{
  "nbformat": 4,
  "nbformat_minor": 0,
  "metadata": {
    "colab": {
      "name": "revision.ipynb",
      "provenance": [],
      "authorship_tag": "ABX9TyOW6uXPnMFZQ/HuHsv9bTZf",
      "include_colab_link": true
    },
    "kernelspec": {
      "name": "python3",
      "display_name": "Python 3"
    },
    "language_info": {
      "name": "python"
    }
  },
  "cells": [
    {
      "cell_type": "markdown",
      "metadata": {
        "id": "view-in-github",
        "colab_type": "text"
      },
      "source": [
        "<a href=\"https://colab.research.google.com/github/spshreya/21daysofML/blob/main/revision.ipynb\" target=\"_parent\"><img src=\"https://colab.research.google.com/assets/colab-badge.svg\" alt=\"Open In Colab\"/></a>"
      ]
    },
    {
      "cell_type": "markdown",
      "metadata": {
        "id": "xgoOgzrQMTcB"
      },
      "source": [
        "NUMPY REVISION"
      ]
    },
    {
      "cell_type": "code",
      "metadata": {
        "id": "VnoEZ6EpLtK0"
      },
      "source": [
        "import numpy as np"
      ],
      "execution_count": 1,
      "outputs": []
    },
    {
      "cell_type": "code",
      "metadata": {
        "colab": {
          "base_uri": "https://localhost:8080/"
        },
        "id": "0vtJbcCCLw5-",
        "outputId": "5c866380-11f6-4666-8124-3f902f22f3d4"
      },
      "source": [
        "a = np.array([1,2,3,4])\n",
        "b = np.array([0, 0.5, 1, 1.5, 2])\n",
        "type(a)"
      ],
      "execution_count": 9,
      "outputs": [
        {
          "output_type": "execute_result",
          "data": {
            "text/plain": [
              "numpy.ndarray"
            ]
          },
          "metadata": {},
          "execution_count": 9
        }
      ]
    },
    {
      "cell_type": "code",
      "metadata": {
        "colab": {
          "base_uri": "https://localhost:8080/"
        },
        "id": "rPAFHc21NmbE",
        "outputId": "9ddb1666-d8bb-4cef-daec-40e082772d45"
      },
      "source": [
        "a.dtype"
      ],
      "execution_count": 10,
      "outputs": [
        {
          "output_type": "execute_result",
          "data": {
            "text/plain": [
              "dtype('int64')"
            ]
          },
          "metadata": {},
          "execution_count": 10
        }
      ]
    },
    {
      "cell_type": "code",
      "metadata": {
        "colab": {
          "base_uri": "https://localhost:8080/"
        },
        "id": "RoVX3FS7N1X5",
        "outputId": "cb6cc5e8-a547-47be-bd39-3d2c3d80a0ad"
      },
      "source": [
        "a = np.array([1,2,3,4], dtype='int8')\n",
        "a.dtype"
      ],
      "execution_count": 13,
      "outputs": [
        {
          "output_type": "execute_result",
          "data": {
            "text/plain": [
              "dtype('int8')"
            ]
          },
          "metadata": {},
          "execution_count": 13
        }
      ]
    },
    {
      "cell_type": "code",
      "metadata": {
        "colab": {
          "base_uri": "https://localhost:8080/"
        },
        "id": "Uy1YhdiBMFKw",
        "outputId": "0cad3cbb-8fce-4b1a-d192-42c0030f80a0"
      },
      "source": [
        "a[0], a[1]"
      ],
      "execution_count": 3,
      "outputs": [
        {
          "output_type": "execute_result",
          "data": {
            "text/plain": [
              "(1, 2)"
            ]
          },
          "metadata": {},
          "execution_count": 3
        }
      ]
    },
    {
      "cell_type": "code",
      "metadata": {
        "colab": {
          "base_uri": "https://localhost:8080/"
        },
        "id": "6vgtPcBjMKxq",
        "outputId": "b2c615e1-306a-4db0-eacd-02082d5450b7"
      },
      "source": [
        "b[0], b[2], b[-1]  "
      ],
      "execution_count": 4,
      "outputs": [
        {
          "output_type": "execute_result",
          "data": {
            "text/plain": [
              "(0.0, 1.0, 2.0)"
            ]
          },
          "metadata": {},
          "execution_count": 4
        }
      ]
    },
    {
      "cell_type": "code",
      "metadata": {
        "colab": {
          "base_uri": "https://localhost:8080/"
        },
        "id": "MB5-xwfWNOgV",
        "outputId": "51b2ef2e-4dfa-45c7-80e6-bfe4927729d7"
      },
      "source": [
        "b[[0,2,-1]] #multi indexing which can not be found in lists but np arrays\n"
      ],
      "execution_count": 8,
      "outputs": [
        {
          "output_type": "execute_result",
          "data": {
            "text/plain": [
              "array([0., 1., 2.])"
            ]
          },
          "metadata": {},
          "execution_count": 8
        }
      ]
    },
    {
      "cell_type": "code",
      "metadata": {
        "colab": {
          "base_uri": "https://localhost:8080/"
        },
        "id": "o1QZmCCWMRm4",
        "outputId": "bffb013b-fe6e-4f40-896d-6e223dd77455"
      },
      "source": [
        "a[1:]"
      ],
      "execution_count": 5,
      "outputs": [
        {
          "output_type": "execute_result",
          "data": {
            "text/plain": [
              "array([2, 3, 4])"
            ]
          },
          "metadata": {},
          "execution_count": 5
        }
      ]
    },
    {
      "cell_type": "code",
      "metadata": {
        "colab": {
          "base_uri": "https://localhost:8080/"
        },
        "id": "qphklpDdMbei",
        "outputId": "c5b10462-e20c-4815-d73f-a28135675f80"
      },
      "source": [
        "a[1:-1]"
      ],
      "execution_count": 6,
      "outputs": [
        {
          "output_type": "execute_result",
          "data": {
            "text/plain": [
              "array([2, 3])"
            ]
          },
          "metadata": {},
          "execution_count": 6
        }
      ]
    },
    {
      "cell_type": "code",
      "metadata": {
        "colab": {
          "base_uri": "https://localhost:8080/"
        },
        "id": "5dsqC4lJMfn8",
        "outputId": "b6811872-2736-4076-cc74-f3b64387821f"
      },
      "source": [
        "a[::2]   #[x::y] prints yth element from the list starting from x"
      ],
      "execution_count": 7,
      "outputs": [
        {
          "output_type": "execute_result",
          "data": {
            "text/plain": [
              "array([1, 3])"
            ]
          },
          "metadata": {},
          "execution_count": 7
        }
      ]
    },
    {
      "cell_type": "code",
      "metadata": {
        "colab": {
          "base_uri": "https://localhost:8080/"
        },
        "id": "-xH199sMMiqY",
        "outputId": "7945ca3f-69bf-484f-90c2-9bee19cf4785"
      },
      "source": [
        "#multidimensional array\n",
        "aa = np.array([\n",
        "               [1,2,3],\n",
        "               [4,5,6]\n",
        "], dtype='int8')\n",
        "aa.dtype"
      ],
      "execution_count": 17,
      "outputs": [
        {
          "output_type": "execute_result",
          "data": {
            "text/plain": [
              "dtype('int8')"
            ]
          },
          "metadata": {},
          "execution_count": 17
        }
      ]
    },
    {
      "cell_type": "code",
      "metadata": {
        "colab": {
          "base_uri": "https://localhost:8080/"
        },
        "id": "JLaOAQ21Oe9w",
        "outputId": "26664993-88c2-4eb8-ff1d-5ceac2fe72e1"
      },
      "source": [
        "print('shape =',aa.shape)\n",
        "print('dimensions=', aa.ndim)\n",
        "print('size=', aa.size)"
      ],
      "execution_count": 23,
      "outputs": [
        {
          "output_type": "stream",
          "name": "stdout",
          "text": [
            "shape = (2, 3)\n",
            "dimensions= 2\n",
            "size= 6\n"
          ]
        }
      ]
    },
    {
      "cell_type": "code",
      "metadata": {
        "colab": {
          "base_uri": "https://localhost:8080/"
        },
        "id": "OIq_c-3sO2vU",
        "outputId": "5ae9d800-b0a6-49bb-a560-93153adf21c0"
      },
      "source": [
        "#a dimension further\n",
        "bb = np.array([\n",
        "               [\n",
        "                [1,2,3],\n",
        "                [4,5,6]\n",
        "               ],\n",
        "               [\n",
        "                [6,7,8],\n",
        "                [9,10,11]\n",
        "               ]\n",
        "], dtype='float64')\n",
        "bb"
      ],
      "execution_count": 27,
      "outputs": [
        {
          "output_type": "execute_result",
          "data": {
            "text/plain": [
              "array([[[ 1.,  2.,  3.],\n",
              "        [ 4.,  5.,  6.]],\n",
              "\n",
              "       [[ 6.,  7.,  8.],\n",
              "        [ 9., 10., 11.]]])"
            ]
          },
          "metadata": {},
          "execution_count": 27
        }
      ]
    },
    {
      "cell_type": "code",
      "metadata": {
        "colab": {
          "base_uri": "https://localhost:8080/"
        },
        "id": "Gi0MGURkP8_1",
        "outputId": "25598018-5a13-4c19-c212-d60cd6325c67"
      },
      "source": [
        "print('shape =',bb.shape)\n",
        "print('dimensions=', bb.ndim)\n",
        "print('size=', bb.size)"
      ],
      "execution_count": 28,
      "outputs": [
        {
          "output_type": "stream",
          "name": "stdout",
          "text": [
            "shape = (2, 2, 3)\n",
            "dimensions= 3\n",
            "size= 12\n"
          ]
        }
      ]
    },
    {
      "cell_type": "code",
      "metadata": {
        "colab": {
          "base_uri": "https://localhost:8080/"
        },
        "id": "jRCqZxrCQQQ_",
        "outputId": "085561ff-42c8-4af9-9d5c-5c5e48624f83"
      },
      "source": [
        "#in case of mismatched rows - notice the difference\n",
        "c = np.array([\n",
        "              [\n",
        "               [1,2,3],\n",
        "               [4,5,6]\n",
        "              ],\n",
        "              [\n",
        "               [7,8,9]\n",
        "              ]\n",
        "])\n",
        "c.dtype"
      ],
      "execution_count": 29,
      "outputs": [
        {
          "output_type": "stream",
          "name": "stderr",
          "text": [
            "/usr/local/lib/python3.7/dist-packages/ipykernel_launcher.py:8: VisibleDeprecationWarning: Creating an ndarray from ragged nested sequences (which is a list-or-tuple of lists-or-tuples-or ndarrays with different lengths or shapes) is deprecated. If you meant to do this, you must specify 'dtype=object' when creating the ndarray\n",
            "  \n"
          ]
        },
        {
          "output_type": "execute_result",
          "data": {
            "text/plain": [
              "dtype('O')"
            ]
          },
          "metadata": {},
          "execution_count": 29
        }
      ]
    },
    {
      "cell_type": "code",
      "metadata": {
        "colab": {
          "base_uri": "https://localhost:8080/"
        },
        "id": "Yv8T873CQyYd",
        "outputId": "11b7a834-158f-49a9-c229-f015cb9e2c26"
      },
      "source": [
        "print('shape =',c.shape)\n",
        "print('dimensions=', c.ndim)\n",
        "print('size=', c.size)"
      ],
      "execution_count": 30,
      "outputs": [
        {
          "output_type": "stream",
          "name": "stdout",
          "text": [
            "shape = (2,)\n",
            "dimensions= 1\n",
            "size= 2\n"
          ]
        }
      ]
    },
    {
      "cell_type": "code",
      "metadata": {
        "id": "ecI53vibQ4X1"
      },
      "source": [
        "#slicing nad indexing square matrix\n",
        "a= np.array([\n",
        "    [1,2,3],\n",
        "    [4,5,6],\n",
        "    [7,8,9]\n",
        "])"
      ],
      "execution_count": 32,
      "outputs": []
    },
    {
      "cell_type": "code",
      "metadata": {
        "id": "XtL1CMRcRQs1"
      },
      "source": [
        ""
      ],
      "execution_count": null,
      "outputs": []
    }
  ]
}