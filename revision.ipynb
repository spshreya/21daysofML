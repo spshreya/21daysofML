{
  "nbformat": 4,
  "nbformat_minor": 0,
  "metadata": {
    "colab": {
      "name": "revision.ipynb",
      "provenance": [],
      "authorship_tag": "ABX9TyNSF3oTr81X1i1NdLjrRK1Z",
      "include_colab_link": true
    },
    "kernelspec": {
      "name": "python3",
      "display_name": "Python 3"
    },
    "language_info": {
      "name": "python"
    }
  },
  "cells": [
    {
      "cell_type": "markdown",
      "metadata": {
        "id": "view-in-github",
        "colab_type": "text"
      },
      "source": [
        "<a href=\"https://colab.research.google.com/github/spshreya/21daysofML/blob/main/revision.ipynb\" target=\"_parent\"><img src=\"https://colab.research.google.com/assets/colab-badge.svg\" alt=\"Open In Colab\"/></a>"
      ]
    },
    {
      "cell_type": "markdown",
      "metadata": {
        "id": "xgoOgzrQMTcB"
      },
      "source": [
        "NUMPY REVISION"
      ]
    },
    {
      "cell_type": "code",
      "metadata": {
        "id": "VnoEZ6EpLtK0"
      },
      "source": [
        "import numpy as np"
      ],
      "execution_count": 2,
      "outputs": []
    },
    {
      "cell_type": "code",
      "metadata": {
        "colab": {
          "base_uri": "https://localhost:8080/"
        },
        "id": "0vtJbcCCLw5-",
        "outputId": "c5ccadb7-513c-4ecb-8a68-db41c581a1d2"
      },
      "source": [
        "a = np.array([1,2,3,4])\n",
        "b = np.array([0, 0.5, 1, 1.5, 2])\n",
        "type(a)"
      ],
      "execution_count": 3,
      "outputs": [
        {
          "output_type": "execute_result",
          "data": {
            "text/plain": [
              "numpy.ndarray"
            ]
          },
          "metadata": {},
          "execution_count": 3
        }
      ]
    },
    {
      "cell_type": "code",
      "metadata": {
        "colab": {
          "base_uri": "https://localhost:8080/"
        },
        "id": "rPAFHc21NmbE",
        "outputId": "7a130124-534d-47c7-e4af-11bab24cf05a"
      },
      "source": [
        "a.dtype"
      ],
      "execution_count": 4,
      "outputs": [
        {
          "output_type": "execute_result",
          "data": {
            "text/plain": [
              "dtype('int64')"
            ]
          },
          "metadata": {},
          "execution_count": 4
        }
      ]
    },
    {
      "cell_type": "code",
      "metadata": {
        "colab": {
          "base_uri": "https://localhost:8080/"
        },
        "id": "RoVX3FS7N1X5",
        "outputId": "0181ce4d-0fcf-49fd-8c32-f9dd6d0f0830"
      },
      "source": [
        "a = np.array([1,2,3,4], dtype='int8')\n",
        "a.dtype"
      ],
      "execution_count": 5,
      "outputs": [
        {
          "output_type": "execute_result",
          "data": {
            "text/plain": [
              "dtype('int8')"
            ]
          },
          "metadata": {},
          "execution_count": 5
        }
      ]
    },
    {
      "cell_type": "code",
      "metadata": {
        "colab": {
          "base_uri": "https://localhost:8080/"
        },
        "id": "Uy1YhdiBMFKw",
        "outputId": "7de46136-ca02-4aa3-b4a8-1f84bde0acca"
      },
      "source": [
        "a[0], a[1]"
      ],
      "execution_count": 6,
      "outputs": [
        {
          "output_type": "execute_result",
          "data": {
            "text/plain": [
              "(1, 2)"
            ]
          },
          "metadata": {},
          "execution_count": 6
        }
      ]
    },
    {
      "cell_type": "code",
      "metadata": {
        "colab": {
          "base_uri": "https://localhost:8080/"
        },
        "id": "6vgtPcBjMKxq",
        "outputId": "eff4b486-40aa-46a7-b96a-884f925962a2"
      },
      "source": [
        "b[0], b[2], b[-1]  "
      ],
      "execution_count": 7,
      "outputs": [
        {
          "output_type": "execute_result",
          "data": {
            "text/plain": [
              "(0.0, 1.0, 2.0)"
            ]
          },
          "metadata": {},
          "execution_count": 7
        }
      ]
    },
    {
      "cell_type": "code",
      "metadata": {
        "colab": {
          "base_uri": "https://localhost:8080/"
        },
        "id": "MB5-xwfWNOgV",
        "outputId": "bdb42360-15e0-4b16-987c-586960c03971"
      },
      "source": [
        "b[[0,2,-1]] #multi indexing which can not be found in lists but np arrays\n"
      ],
      "execution_count": 8,
      "outputs": [
        {
          "output_type": "execute_result",
          "data": {
            "text/plain": [
              "array([0., 1., 2.])"
            ]
          },
          "metadata": {},
          "execution_count": 8
        }
      ]
    },
    {
      "cell_type": "code",
      "metadata": {
        "colab": {
          "base_uri": "https://localhost:8080/"
        },
        "id": "o1QZmCCWMRm4",
        "outputId": "68077e4e-9d8a-4fa7-fede-39962ecba290"
      },
      "source": [
        "a[1:]"
      ],
      "execution_count": 9,
      "outputs": [
        {
          "output_type": "execute_result",
          "data": {
            "text/plain": [
              "array([2, 3, 4], dtype=int8)"
            ]
          },
          "metadata": {},
          "execution_count": 9
        }
      ]
    },
    {
      "cell_type": "code",
      "metadata": {
        "colab": {
          "base_uri": "https://localhost:8080/"
        },
        "id": "qphklpDdMbei",
        "outputId": "449e6f3c-22a6-4246-f4ba-4b982914204d"
      },
      "source": [
        "a[1:-1]"
      ],
      "execution_count": 10,
      "outputs": [
        {
          "output_type": "execute_result",
          "data": {
            "text/plain": [
              "array([2, 3], dtype=int8)"
            ]
          },
          "metadata": {},
          "execution_count": 10
        }
      ]
    },
    {
      "cell_type": "code",
      "metadata": {
        "colab": {
          "base_uri": "https://localhost:8080/"
        },
        "id": "5dsqC4lJMfn8",
        "outputId": "0891f228-6e2a-4f18-96e7-f63cfc90bd5c"
      },
      "source": [
        "a[::2]   #[x::y] prints yth element from the list starting from x"
      ],
      "execution_count": 11,
      "outputs": [
        {
          "output_type": "execute_result",
          "data": {
            "text/plain": [
              "array([1, 3], dtype=int8)"
            ]
          },
          "metadata": {},
          "execution_count": 11
        }
      ]
    },
    {
      "cell_type": "code",
      "metadata": {
        "colab": {
          "base_uri": "https://localhost:8080/"
        },
        "id": "-xH199sMMiqY",
        "outputId": "8079c625-134e-476a-f43c-cb07795dcec6"
      },
      "source": [
        "#multidimensional array\n",
        "aa = np.array([\n",
        "               [1,2,3],\n",
        "               [4,5,6]\n",
        "], dtype='int8')\n",
        "aa.dtype"
      ],
      "execution_count": 12,
      "outputs": [
        {
          "output_type": "execute_result",
          "data": {
            "text/plain": [
              "dtype('int8')"
            ]
          },
          "metadata": {},
          "execution_count": 12
        }
      ]
    },
    {
      "cell_type": "code",
      "metadata": {
        "colab": {
          "base_uri": "https://localhost:8080/"
        },
        "id": "JLaOAQ21Oe9w",
        "outputId": "a8d418b2-3383-4351-cfe6-3227f3533343"
      },
      "source": [
        "print('shape =',aa.shape)\n",
        "print('dimensions=', aa.ndim)\n",
        "print('size=', aa.size)"
      ],
      "execution_count": 13,
      "outputs": [
        {
          "output_type": "stream",
          "name": "stdout",
          "text": [
            "shape = (2, 3)\n",
            "dimensions= 2\n",
            "size= 6\n"
          ]
        }
      ]
    },
    {
      "cell_type": "code",
      "metadata": {
        "colab": {
          "base_uri": "https://localhost:8080/"
        },
        "id": "OIq_c-3sO2vU",
        "outputId": "378aa73d-3f66-490b-ca9d-3b8689e5a150"
      },
      "source": [
        "#a dimension further\n",
        "bb = np.array([\n",
        "               [\n",
        "                [1,2,3],\n",
        "                [4,5,6]\n",
        "               ],\n",
        "               [\n",
        "                [6,7,8],\n",
        "                [9,10,11]\n",
        "               ]\n",
        "], dtype='float64')\n",
        "bb"
      ],
      "execution_count": 14,
      "outputs": [
        {
          "output_type": "execute_result",
          "data": {
            "text/plain": [
              "array([[[ 1.,  2.,  3.],\n",
              "        [ 4.,  5.,  6.]],\n",
              "\n",
              "       [[ 6.,  7.,  8.],\n",
              "        [ 9., 10., 11.]]])"
            ]
          },
          "metadata": {},
          "execution_count": 14
        }
      ]
    },
    {
      "cell_type": "code",
      "metadata": {
        "colab": {
          "base_uri": "https://localhost:8080/"
        },
        "id": "Gi0MGURkP8_1",
        "outputId": "563d555c-daa0-4d5c-9fa6-bee010e4cb02"
      },
      "source": [
        "print('shape =',bb.shape)\n",
        "print('dimensions=', bb.ndim)\n",
        "print('size=', bb.size)"
      ],
      "execution_count": 15,
      "outputs": [
        {
          "output_type": "stream",
          "name": "stdout",
          "text": [
            "shape = (2, 2, 3)\n",
            "dimensions= 3\n",
            "size= 12\n"
          ]
        }
      ]
    },
    {
      "cell_type": "code",
      "metadata": {
        "colab": {
          "base_uri": "https://localhost:8080/"
        },
        "id": "jRCqZxrCQQQ_",
        "outputId": "065b5078-6c6a-4957-f7c0-af8e193f58ce"
      },
      "source": [
        "#in case of mismatched rows - notice the difference\n",
        "c = np.array([\n",
        "              [\n",
        "               [1,2,3],\n",
        "               [4,5,6]\n",
        "              ],\n",
        "              [\n",
        "               [7,8,9]\n",
        "              ]\n",
        "])\n",
        "c.dtype"
      ],
      "execution_count": 16,
      "outputs": [
        {
          "output_type": "stream",
          "name": "stderr",
          "text": [
            "/usr/local/lib/python3.7/dist-packages/ipykernel_launcher.py:8: VisibleDeprecationWarning: Creating an ndarray from ragged nested sequences (which is a list-or-tuple of lists-or-tuples-or ndarrays with different lengths or shapes) is deprecated. If you meant to do this, you must specify 'dtype=object' when creating the ndarray\n",
            "  \n"
          ]
        },
        {
          "output_type": "execute_result",
          "data": {
            "text/plain": [
              "dtype('O')"
            ]
          },
          "metadata": {},
          "execution_count": 16
        }
      ]
    },
    {
      "cell_type": "code",
      "metadata": {
        "colab": {
          "base_uri": "https://localhost:8080/"
        },
        "id": "Yv8T873CQyYd",
        "outputId": "555989d4-4c15-4f77-8494-40594ff8f9db"
      },
      "source": [
        "print('shape =',c.shape)\n",
        "print('dimensions=', c.ndim)\n",
        "print('size=', c.size)"
      ],
      "execution_count": 17,
      "outputs": [
        {
          "output_type": "stream",
          "name": "stdout",
          "text": [
            "shape = (2,)\n",
            "dimensions= 1\n",
            "size= 2\n"
          ]
        }
      ]
    },
    {
      "cell_type": "code",
      "metadata": {
        "id": "ecI53vibQ4X1"
      },
      "source": [
        "#slicing nad indexing square matrix\n",
        "a= np.array([\n",
        "    [1,2,3],\n",
        "    [4,5,6],\n",
        "    [7,8,9]\n",
        "])"
      ],
      "execution_count": 18,
      "outputs": []
    },
    {
      "cell_type": "code",
      "metadata": {
        "id": "XtL1CMRcRQs1",
        "colab": {
          "base_uri": "https://localhost:8080/"
        },
        "outputId": "17a6259f-a884-4b42-c2a3-787e6063abbb"
      },
      "source": [
        "a[1][0]"
      ],
      "execution_count": 19,
      "outputs": [
        {
          "output_type": "execute_result",
          "data": {
            "text/plain": [
              "4"
            ]
          },
          "metadata": {},
          "execution_count": 19
        }
      ]
    },
    {
      "cell_type": "code",
      "metadata": {
        "colab": {
          "base_uri": "https://localhost:8080/"
        },
        "id": "oz61mn_5bKVw",
        "outputId": "27f493e1-8c27-4b95-e5ca-db09021de286"
      },
      "source": [
        "#or \n",
        "a[1, 0]"
      ],
      "execution_count": 20,
      "outputs": [
        {
          "output_type": "execute_result",
          "data": {
            "text/plain": [
              "4"
            ]
          },
          "metadata": {},
          "execution_count": 20
        }
      ]
    },
    {
      "cell_type": "code",
      "metadata": {
        "colab": {
          "base_uri": "https://localhost:8080/"
        },
        "id": "_EzLtOAmbg_V",
        "outputId": "d68c4ebd-f7d6-4539-8944-ebf49386ee33"
      },
      "source": [
        "a[:2]"
      ],
      "execution_count": 21,
      "outputs": [
        {
          "output_type": "execute_result",
          "data": {
            "text/plain": [
              "array([[1, 2, 3],\n",
              "       [4, 5, 6]])"
            ]
          },
          "metadata": {},
          "execution_count": 21
        }
      ]
    },
    {
      "cell_type": "code",
      "metadata": {
        "colab": {
          "base_uri": "https://localhost:8080/"
        },
        "id": "yZDr5xA2b1Jt",
        "outputId": "ebafadf4-057c-4806-cd2f-7fa2c28d673b"
      },
      "source": [
        "a[:, :2]    #a[d1, d2, d3, d4]"
      ],
      "execution_count": 22,
      "outputs": [
        {
          "output_type": "execute_result",
          "data": {
            "text/plain": [
              "array([[1, 2],\n",
              "       [4, 5],\n",
              "       [7, 8]])"
            ]
          },
          "metadata": {},
          "execution_count": 22
        }
      ]
    },
    {
      "cell_type": "code",
      "metadata": {
        "colab": {
          "base_uri": "https://localhost:8080/"
        },
        "id": "1gtlGwN9b3mx",
        "outputId": "330f69b5-12c5-46da-f754-9f442d218044"
      },
      "source": [
        "a[1] = np.array([2,2,2])\n",
        "a"
      ],
      "execution_count": 23,
      "outputs": [
        {
          "output_type": "execute_result",
          "data": {
            "text/plain": [
              "array([[1, 2, 3],\n",
              "       [2, 2, 2],\n",
              "       [7, 8, 9]])"
            ]
          },
          "metadata": {},
          "execution_count": 23
        }
      ]
    },
    {
      "cell_type": "code",
      "metadata": {
        "colab": {
          "base_uri": "https://localhost:8080/"
        },
        "id": "pMVc8VVvcVxj",
        "outputId": "9580993c-716b-4c90-9461-4397052ca212"
      },
      "source": [
        "#or we can just leave it to numpy\n",
        "a[2]= 10\n",
        "a"
      ],
      "execution_count": 24,
      "outputs": [
        {
          "output_type": "execute_result",
          "data": {
            "text/plain": [
              "array([[ 1,  2,  3],\n",
              "       [ 2,  2,  2],\n",
              "       [10, 10, 10]])"
            ]
          },
          "metadata": {},
          "execution_count": 24
        }
      ]
    },
    {
      "cell_type": "code",
      "metadata": {
        "id": "txhPZM0bcdNk"
      },
      "source": [
        "# STATS\n",
        "\n",
        "a = np.array([1,2,3,4], dtype='int8')"
      ],
      "execution_count": 26,
      "outputs": []
    },
    {
      "cell_type": "code",
      "metadata": {
        "colab": {
          "base_uri": "https://localhost:8080/"
        },
        "id": "MCzLvRM_cplQ",
        "outputId": "e9ad1e86-3e09-4729-c005-b6b4e24e2ad3"
      },
      "source": [
        "print(a.max(), a.min(), a.sum(), a.mean(), a.std(), a.var())"
      ],
      "execution_count": 29,
      "outputs": [
        {
          "output_type": "stream",
          "name": "stdout",
          "text": [
            "4 1 10 2.5 1.118033988749895 1.25\n"
          ]
        }
      ]
    },
    {
      "cell_type": "code",
      "metadata": {
        "id": "NUAsxgBYc0x7"
      },
      "source": [
        ""
      ],
      "execution_count": null,
      "outputs": []
    }
  ]
}